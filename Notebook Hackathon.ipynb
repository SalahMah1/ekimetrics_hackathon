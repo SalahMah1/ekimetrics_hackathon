{
 "cells": [
  {
   "cell_type": "markdown",
   "metadata": {},
   "source": [
    "# Hackathon AI4S - Carbon Estimation "
   ]
  },
  {
   "cell_type": "markdown",
   "metadata": {},
   "source": [
    "This notebook serves as a basis for the first part of the Hackathon, where you are tasked to create a tool to estimate a carbon footprint - use it as you see fit!"
   ]
  },
  {
   "cell_type": "markdown",
   "metadata": {},
   "source": [
    "## Install Libraries"
   ]
  },
  {
   "cell_type": "code",
   "execution_count": 1,
   "metadata": {},
   "outputs": [],
   "source": [
    "# Uncomment if needed to install libraries - feel free to use any library you want\n",
    "\n",
    "#pip install pandas\n",
    "#pip install plotly\n",
    "#pip install scikit-learn\n",
    "#..."
   ]
  },
  {
   "cell_type": "markdown",
   "metadata": {},
   "source": [
    "## Import Libraries"
   ]
  },
  {
   "cell_type": "code",
   "execution_count": 1,
   "metadata": {},
   "outputs": [],
   "source": [
    "import pandas as pd \n",
    "import plotly.express as px"
   ]
  },
  {
   "cell_type": "markdown",
   "metadata": {},
   "source": [
    "Documentation Plotly\n",
    "https://plotly.com/python/"
   ]
  },
  {
   "cell_type": "markdown",
   "metadata": {},
   "source": [
    "## 1) Import Data"
   ]
  },
  {
   "cell_type": "markdown",
   "metadata": {},
   "source": [
    "### 1.1) Import train data"
   ]
  },
  {
   "cell_type": "markdown",
   "metadata": {},
   "source": [
    "The training data that will enable us to calculate the emissions are open source data extracted from ADEME for one part and scraped from the Climate Act website for the other."
   ]
  },
  {
   "cell_type": "markdown",
   "metadata": {},
   "source": [
    "ADEME : https://bilans-ges.ademe.fr/\n",
    "\n",
    "Climate Act link : https://passerelle.sustainsoft.eu/climate-act"
   ]
  },
  {
   "cell_type": "code",
   "execution_count": 2,
   "metadata": {},
   "outputs": [],
   "source": [
    "df_train = pd.read_excel('Data_train.xlsx')\n",
    "df_train = df_train.drop(columns=[\"Unnamed: 0\"])"
   ]
  },
  {
   "cell_type": "code",
   "execution_count": 3,
   "metadata": {},
   "outputs": [
    {
     "data": {
      "text/html": [
       "<div>\n",
       "<style scoped>\n",
       "    .dataframe tbody tr th:only-of-type {\n",
       "        vertical-align: middle;\n",
       "    }\n",
       "\n",
       "    .dataframe tbody tr th {\n",
       "        vertical-align: top;\n",
       "    }\n",
       "\n",
       "    .dataframe thead th {\n",
       "        text-align: right;\n",
       "    }\n",
       "</style>\n",
       "<table border=\"1\" class=\"dataframe\">\n",
       "  <thead>\n",
       "    <tr style=\"text-align: right;\">\n",
       "      <th></th>\n",
       "      <th>entity_name</th>\n",
       "      <th>date</th>\n",
       "      <th>date_publication</th>\n",
       "      <th>entity_employees</th>\n",
       "      <th>entity_sales</th>\n",
       "      <th>source</th>\n",
       "      <th>siren</th>\n",
       "      <th>description_en</th>\n",
       "      <th>sector_naf_level_0_details</th>\n",
       "      <th>sector_naf_level_1_details</th>\n",
       "      <th>...</th>\n",
       "      <th>poste_14</th>\n",
       "      <th>poste_15</th>\n",
       "      <th>poste_16</th>\n",
       "      <th>poste_17</th>\n",
       "      <th>poste_18</th>\n",
       "      <th>poste_19</th>\n",
       "      <th>poste_20</th>\n",
       "      <th>poste_21</th>\n",
       "      <th>poste_22</th>\n",
       "      <th>poste_23</th>\n",
       "    </tr>\n",
       "  </thead>\n",
       "  <tbody>\n",
       "    <tr>\n",
       "      <th>0</th>\n",
       "      <td>Labeyrie SAS</td>\n",
       "      <td>2016</td>\n",
       "      <td>2016-12-26</td>\n",
       "      <td>1450</td>\n",
       "      <td>290.4</td>\n",
       "      <td>ADEME</td>\n",
       "      <td>347902587</td>\n",
       "      <td>Processing, conservation and marketing of aqua...</td>\n",
       "      <td>C. Industrie Manufacturière</td>\n",
       "      <td>10 - Industries alimentaires</td>\n",
       "      <td>...</td>\n",
       "      <td>0.0</td>\n",
       "      <td>0.0</td>\n",
       "      <td>0.0</td>\n",
       "      <td>0.0</td>\n",
       "      <td>0.0</td>\n",
       "      <td>0.0</td>\n",
       "      <td>0.0</td>\n",
       "      <td>0.0</td>\n",
       "      <td>0.000000</td>\n",
       "      <td>0.0</td>\n",
       "    </tr>\n",
       "    <tr>\n",
       "      <th>1</th>\n",
       "      <td>NOVANDIE SA</td>\n",
       "      <td>2018</td>\n",
       "      <td>2019-12-20</td>\n",
       "      <td>1231</td>\n",
       "      <td>NaN</td>\n",
       "      <td>ADEME</td>\n",
       "      <td>314603051</td>\n",
       "      <td>Manufacture of liquid milk and fresh products</td>\n",
       "      <td>C. Industrie Manufacturière</td>\n",
       "      <td>10 - Industries alimentaires</td>\n",
       "      <td>...</td>\n",
       "      <td>0.0</td>\n",
       "      <td>0.0</td>\n",
       "      <td>0.0</td>\n",
       "      <td>0.0</td>\n",
       "      <td>0.0</td>\n",
       "      <td>0.0</td>\n",
       "      <td>0.0</td>\n",
       "      <td>0.0</td>\n",
       "      <td>0.000000</td>\n",
       "      <td>0.0</td>\n",
       "    </tr>\n",
       "    <tr>\n",
       "      <th>2</th>\n",
       "      <td>HSBC FRANCE</td>\n",
       "      <td>2019</td>\n",
       "      <td>2020-12-16</td>\n",
       "      <td>7645</td>\n",
       "      <td>NaN</td>\n",
       "      <td>ADEME</td>\n",
       "      <td>775670284</td>\n",
       "      <td>BANKING ACTIVITY</td>\n",
       "      <td>K. Activité financières et d'assurance</td>\n",
       "      <td>64 - Activités des services financiers, hors a...</td>\n",
       "      <td>...</td>\n",
       "      <td>0.0</td>\n",
       "      <td>0.0</td>\n",
       "      <td>0.0</td>\n",
       "      <td>0.0</td>\n",
       "      <td>0.0</td>\n",
       "      <td>0.0</td>\n",
       "      <td>0.0</td>\n",
       "      <td>0.0</td>\n",
       "      <td>0.000000</td>\n",
       "      <td>0.0</td>\n",
       "    </tr>\n",
       "    <tr>\n",
       "      <th>3</th>\n",
       "      <td>Jamespot</td>\n",
       "      <td>2015</td>\n",
       "      <td>2017-05-04</td>\n",
       "      <td>15</td>\n",
       "      <td>3.1651</td>\n",
       "      <td>ADEME</td>\n",
       "      <td>483321378</td>\n",
       "      <td>French software editor specialized in collabo...</td>\n",
       "      <td>J. Information et communication</td>\n",
       "      <td>58 - Édition</td>\n",
       "      <td>...</td>\n",
       "      <td>0.0</td>\n",
       "      <td>0.0</td>\n",
       "      <td>0.0</td>\n",
       "      <td>0.0</td>\n",
       "      <td>0.0</td>\n",
       "      <td>0.0</td>\n",
       "      <td>0.0</td>\n",
       "      <td>0.0</td>\n",
       "      <td>0.040418</td>\n",
       "      <td>0.0</td>\n",
       "    </tr>\n",
       "    <tr>\n",
       "      <th>4</th>\n",
       "      <td>Vilogia</td>\n",
       "      <td>2018</td>\n",
       "      <td>2020-04-06</td>\n",
       "      <td>933</td>\n",
       "      <td>NaN</td>\n",
       "      <td>ADEME</td>\n",
       "      <td>475680815</td>\n",
       "      <td>Vilogia is an entrepreneurial social real esta...</td>\n",
       "      <td>L. Activités immobilières</td>\n",
       "      <td>68 - Activités immobilières</td>\n",
       "      <td>...</td>\n",
       "      <td>0.0</td>\n",
       "      <td>0.0</td>\n",
       "      <td>0.0</td>\n",
       "      <td>0.0</td>\n",
       "      <td>0.0</td>\n",
       "      <td>0.0</td>\n",
       "      <td>0.0</td>\n",
       "      <td>0.0</td>\n",
       "      <td>0.004143</td>\n",
       "      <td>0.0</td>\n",
       "    </tr>\n",
       "  </tbody>\n",
       "</table>\n",
       "<p>5 rows × 40 columns</p>\n",
       "</div>"
      ],
      "text/plain": [
       "    entity_name  date date_publication  entity_employees entity_sales source  \\\n",
       "0  Labeyrie SAS  2016       2016-12-26              1450        290.4  ADEME   \n",
       "1   NOVANDIE SA  2018       2019-12-20              1231          NaN  ADEME   \n",
       "2   HSBC FRANCE  2019       2020-12-16              7645          NaN  ADEME   \n",
       "3      Jamespot  2015       2017-05-04                15       3.1651  ADEME   \n",
       "4       Vilogia  2018       2020-04-06               933          NaN  ADEME   \n",
       "\n",
       "       siren                                     description_en  \\\n",
       "0  347902587  Processing, conservation and marketing of aqua...   \n",
       "1  314603051      Manufacture of liquid milk and fresh products   \n",
       "2  775670284                                   BANKING ACTIVITY   \n",
       "3  483321378   French software editor specialized in collabo...   \n",
       "4  475680815  Vilogia is an entrepreneurial social real esta...   \n",
       "\n",
       "               sector_naf_level_0_details  \\\n",
       "0             C. Industrie Manufacturière   \n",
       "1             C. Industrie Manufacturière   \n",
       "2  K. Activité financières et d'assurance   \n",
       "3         J. Information et communication   \n",
       "4               L. Activités immobilières   \n",
       "\n",
       "                          sector_naf_level_1_details  ... poste_14 poste_15  \\\n",
       "0                       10 - Industries alimentaires  ...      0.0      0.0   \n",
       "1                       10 - Industries alimentaires  ...      0.0      0.0   \n",
       "2  64 - Activités des services financiers, hors a...  ...      0.0      0.0   \n",
       "3                                       58 - Édition  ...      0.0      0.0   \n",
       "4                        68 - Activités immobilières  ...      0.0      0.0   \n",
       "\n",
       "  poste_16  poste_17  poste_18  poste_19  poste_20  poste_21  poste_22  \\\n",
       "0      0.0       0.0       0.0       0.0       0.0       0.0  0.000000   \n",
       "1      0.0       0.0       0.0       0.0       0.0       0.0  0.000000   \n",
       "2      0.0       0.0       0.0       0.0       0.0       0.0  0.000000   \n",
       "3      0.0       0.0       0.0       0.0       0.0       0.0  0.040418   \n",
       "4      0.0       0.0       0.0       0.0       0.0       0.0  0.004143   \n",
       "\n",
       "   poste_23  \n",
       "0       0.0  \n",
       "1       0.0  \n",
       "2       0.0  \n",
       "3       0.0  \n",
       "4       0.0  \n",
       "\n",
       "[5 rows x 40 columns]"
      ]
     },
     "execution_count": 3,
     "metadata": {},
     "output_type": "execute_result"
    }
   ],
   "source": [
    "df_train.head()"
   ]
  },
  {
   "cell_type": "markdown",
   "metadata": {},
   "source": [
    "* entity_sales are in Millions €"
   ]
  },
  {
   "cell_type": "code",
   "execution_count": 4,
   "metadata": {},
   "outputs": [
    {
     "name": "stdout",
     "output_type": "stream",
     "text": [
      "Columns from the dataset are the following :\" ['entity_name', 'date', 'date_publication', 'entity_employees', 'entity_sales', 'source', 'siren', 'description_en', 'sector_naf_level_0_details', 'sector_naf_level_1_details', 'sector_naf_level_2', 'region', 'city', 'emissions_total', 'scope_1', 'scope_2', 'scope_3', 'poste_1', 'poste_2', 'poste_3', 'poste_4', 'poste_5', 'poste_6', 'poste_7', 'poste_8', 'poste_9', 'poste_10', 'poste_11', 'poste_12', 'poste_13', 'poste_14', 'poste_15', 'poste_16', 'poste_17', 'poste_18', 'poste_19', 'poste_20', 'poste_21', 'poste_22', 'poste_23']\n"
     ]
    }
   ],
   "source": [
    "print('Columns from the dataset are the following :\"', [column for column in df_train.columns])"
   ]
  },
  {
   "cell_type": "markdown",
   "metadata": {},
   "source": [
    "What is a NAF and SIREN code ?"
   ]
  },
  {
   "cell_type": "markdown",
   "metadata": {},
   "source": [
    "Documentation NAF : https://www.insee.fr/fr/information/2406147\n",
    "\n",
    "Documentation SIREN : https://fr.wikipedia.org/wiki/Syst%C3%A8me_d%27identification_du_r%C3%A9pertoire_des_entreprises"
   ]
  },
  {
   "cell_type": "markdown",
   "metadata": {},
   "source": [
    "### 1.2) Import test data"
   ]
  },
  {
   "cell_type": "markdown",
   "metadata": {},
   "source": [
    "The test dataset is composed of companies for which we wish to know an estimate of the tons of CO2 emitted by them. We call it test dataset because it's the one on which we evaluate the prediction model.\n",
    "\n",
    "WARNING: the features available are not necessarily available in the training database and vice versa."
   ]
  },
  {
   "cell_type": "code",
   "execution_count": 5,
   "metadata": {},
   "outputs": [],
   "source": [
    "df_test  = pd.read_excel('Data_test.xlsx')\n",
    "df_test  = df_test.drop(columns=[\"Unnamed: 0\"])"
   ]
  },
  {
   "cell_type": "code",
   "execution_count": 6,
   "metadata": {},
   "outputs": [
    {
     "data": {
      "text/html": [
       "<div>\n",
       "<style scoped>\n",
       "    .dataframe tbody tr th:only-of-type {\n",
       "        vertical-align: middle;\n",
       "    }\n",
       "\n",
       "    .dataframe tbody tr th {\n",
       "        vertical-align: top;\n",
       "    }\n",
       "\n",
       "    .dataframe thead th {\n",
       "        text-align: right;\n",
       "    }\n",
       "</style>\n",
       "<table border=\"1\" class=\"dataframe\">\n",
       "  <thead>\n",
       "    <tr style=\"text-align: right;\">\n",
       "      <th></th>\n",
       "      <th>entity_name</th>\n",
       "      <th>date</th>\n",
       "      <th>date_publication</th>\n",
       "      <th>entity_employees</th>\n",
       "      <th>entity_sales</th>\n",
       "      <th>source</th>\n",
       "      <th>siren</th>\n",
       "      <th>description_en</th>\n",
       "      <th>sector_naf_level_0_details</th>\n",
       "      <th>sector_naf_level_1_details</th>\n",
       "      <th>sector_naf_level_2</th>\n",
       "      <th>region</th>\n",
       "      <th>city</th>\n",
       "    </tr>\n",
       "  </thead>\n",
       "  <tbody>\n",
       "    <tr>\n",
       "      <th>0</th>\n",
       "      <td>Rector Lesage</td>\n",
       "      <td>2015</td>\n",
       "      <td>2017-01-06</td>\n",
       "      <td>708</td>\n",
       "      <td>185.1414</td>\n",
       "      <td>ADEME</td>\n",
       "      <td>307322214.0</td>\n",
       "      <td>Manufacturing and marketing of concrete elemen...</td>\n",
       "      <td>C. Industrie Manufacturière</td>\n",
       "      <td>23 - Fabrication d'autres produits minéraux no...</td>\n",
       "      <td>2361Z</td>\n",
       "      <td>NaN</td>\n",
       "      <td>MULHOUSE</td>\n",
       "    </tr>\n",
       "    <tr>\n",
       "      <th>1</th>\n",
       "      <td>Brandt France</td>\n",
       "      <td>2018</td>\n",
       "      <td>2019-12-20</td>\n",
       "      <td>954</td>\n",
       "      <td>180.0538</td>\n",
       "      <td>ADEME</td>\n",
       "      <td>801250531.0</td>\n",
       "      <td>Manufacture of household appliances</td>\n",
       "      <td>G. Commerce; réparation d'automobiles et de mo...</td>\n",
       "      <td>46 - Commerce de gros, à l’exception des autom...</td>\n",
       "      <td>4643Z</td>\n",
       "      <td>NaN</td>\n",
       "      <td>Rueil Malmaison</td>\n",
       "    </tr>\n",
       "    <tr>\n",
       "      <th>2</th>\n",
       "      <td>Caisse Régionale d'Assurance Maladie d'Ile de ...</td>\n",
       "      <td>2018</td>\n",
       "      <td>2019-12-18</td>\n",
       "      <td>1717</td>\n",
       "      <td>NaN</td>\n",
       "      <td>ADEME</td>\n",
       "      <td>775694730.0</td>\n",
       "      <td>The Cramif: pays benefits (disability pension...</td>\n",
       "      <td>O. Administration publique</td>\n",
       "      <td>84 - Administration publique et défense ; sécu...</td>\n",
       "      <td>8430A</td>\n",
       "      <td>NaN</td>\n",
       "      <td>Paris</td>\n",
       "    </tr>\n",
       "    <tr>\n",
       "      <th>3</th>\n",
       "      <td>KIMBERLY CLARK SAS</td>\n",
       "      <td>2017</td>\n",
       "      <td>2019-07-08</td>\n",
       "      <td>486</td>\n",
       "      <td>187.6831</td>\n",
       "      <td>ADEME</td>\n",
       "      <td>352600456.0</td>\n",
       "      <td>consumer products for personal hygiene and ca...</td>\n",
       "      <td>C. Industrie Manufacturière</td>\n",
       "      <td>17 - Industrie du papier et du carton</td>\n",
       "      <td>1722Z</td>\n",
       "      <td>NaN</td>\n",
       "      <td>NANTERRE</td>\n",
       "    </tr>\n",
       "    <tr>\n",
       "      <th>4</th>\n",
       "      <td>SOPREMA ENTREPRISES</td>\n",
       "      <td>2019</td>\n",
       "      <td>2020-06-18</td>\n",
       "      <td>1996</td>\n",
       "      <td>NaN</td>\n",
       "      <td>ADEME</td>\n",
       "      <td>485197552.0</td>\n",
       "      <td>SOPREMA Entreprises is a network of several do...</td>\n",
       "      <td>F. Construction</td>\n",
       "      <td>43 - Travaux de construction spécialisés</td>\n",
       "      <td>4399A</td>\n",
       "      <td>NaN</td>\n",
       "      <td>Strasbourg</td>\n",
       "    </tr>\n",
       "  </tbody>\n",
       "</table>\n",
       "</div>"
      ],
      "text/plain": [
       "                                         entity_name  date date_publication  \\\n",
       "0                                      Rector Lesage  2015       2017-01-06   \n",
       "1                                      Brandt France  2018       2019-12-20   \n",
       "2  Caisse Régionale d'Assurance Maladie d'Ile de ...  2018       2019-12-18   \n",
       "3                                 KIMBERLY CLARK SAS  2017       2019-07-08   \n",
       "4                                SOPREMA ENTREPRISES  2019       2020-06-18   \n",
       "\n",
       "   entity_employees entity_sales source        siren  \\\n",
       "0               708     185.1414  ADEME  307322214.0   \n",
       "1               954     180.0538  ADEME  801250531.0   \n",
       "2              1717          NaN  ADEME  775694730.0   \n",
       "3               486     187.6831  ADEME  352600456.0   \n",
       "4              1996          NaN  ADEME  485197552.0   \n",
       "\n",
       "                                      description_en  \\\n",
       "0  Manufacturing and marketing of concrete elemen...   \n",
       "1                Manufacture of household appliances   \n",
       "2   The Cramif: pays benefits (disability pension...   \n",
       "3   consumer products for personal hygiene and ca...   \n",
       "4  SOPREMA Entreprises is a network of several do...   \n",
       "\n",
       "                          sector_naf_level_0_details  \\\n",
       "0                        C. Industrie Manufacturière   \n",
       "1  G. Commerce; réparation d'automobiles et de mo...   \n",
       "2                         O. Administration publique   \n",
       "3                        C. Industrie Manufacturière   \n",
       "4                                    F. Construction   \n",
       "\n",
       "                          sector_naf_level_1_details sector_naf_level_2  \\\n",
       "0  23 - Fabrication d'autres produits minéraux no...              2361Z   \n",
       "1  46 - Commerce de gros, à l’exception des autom...              4643Z   \n",
       "2  84 - Administration publique et défense ; sécu...              8430A   \n",
       "3              17 - Industrie du papier et du carton              1722Z   \n",
       "4          43 - Travaux de construction spécialisés               4399A   \n",
       "\n",
       "   region             city  \n",
       "0     NaN         MULHOUSE  \n",
       "1     NaN  Rueil Malmaison  \n",
       "2     NaN            Paris  \n",
       "3     NaN         NANTERRE  \n",
       "4     NaN       Strasbourg  "
      ]
     },
     "execution_count": 6,
     "metadata": {},
     "output_type": "execute_result"
    }
   ],
   "source": [
    "df_test.head()"
   ]
  },
  {
   "cell_type": "markdown",
   "metadata": {},
   "source": [
    "* The social capital is in €."
   ]
  },
  {
   "cell_type": "code",
   "execution_count": 7,
   "metadata": {},
   "outputs": [
    {
     "name": "stdout",
     "output_type": "stream",
     "text": [
      "Columns from the dataset are the following :\" ['entity_name', 'date', 'date_publication', 'entity_employees', 'entity_sales', 'source', 'siren', 'description_en', 'sector_naf_level_0_details', 'sector_naf_level_1_details', 'sector_naf_level_2', 'region', 'city']\n"
     ]
    }
   ],
   "source": [
    "print('Columns from the dataset are the following :\"', [column for column in df_test.columns])"
   ]
  },
  {
   "cell_type": "markdown",
   "metadata": {},
   "source": [
    "## 2) Data Exploration"
   ]
  },
  {
   "cell_type": "code",
   "execution_count": 8,
   "metadata": {
    "scrolled": false
   },
   "outputs": [
    {
     "name": "stdout",
     "output_type": "stream",
     "text": [
      "<class 'pandas.core.frame.DataFrame'>\n",
      "RangeIndex: 1261 entries, 0 to 1260\n",
      "Data columns (total 40 columns):\n",
      " #   Column                      Non-Null Count  Dtype         \n",
      "---  ------                      --------------  -----         \n",
      " 0   entity_name                 1261 non-null   object        \n",
      " 1   date                        1261 non-null   int64         \n",
      " 2   date_publication            1251 non-null   datetime64[ns]\n",
      " 3   entity_employees            1261 non-null   int64         \n",
      " 4   entity_sales                811 non-null    object        \n",
      " 5   source                      1261 non-null   object        \n",
      " 6   siren                       1261 non-null   object        \n",
      " 7   description_en              1261 non-null   object        \n",
      " 8   sector_naf_level_0_details  1261 non-null   object        \n",
      " 9   sector_naf_level_1_details  1261 non-null   object        \n",
      " 10  sector_naf_level_2          1261 non-null   object        \n",
      " 11  region                      1 non-null      object        \n",
      " 12  city                        1247 non-null   object        \n",
      " 13  emissions_total             1000 non-null   float64       \n",
      " 14  scope_1                     1261 non-null   float64       \n",
      " 15  scope_2                     1261 non-null   float64       \n",
      " 16  scope_3                     1261 non-null   float64       \n",
      " 17  poste_1                     1261 non-null   float64       \n",
      " 18  poste_2                     1261 non-null   float64       \n",
      " 19  poste_3                     1261 non-null   float64       \n",
      " 20  poste_4                     1261 non-null   float64       \n",
      " 21  poste_5                     1261 non-null   float64       \n",
      " 22  poste_6                     1261 non-null   float64       \n",
      " 23  poste_7                     1261 non-null   float64       \n",
      " 24  poste_8                     1261 non-null   float64       \n",
      " 25  poste_9                     1261 non-null   float64       \n",
      " 26  poste_10                    1261 non-null   float64       \n",
      " 27  poste_11                    1261 non-null   float64       \n",
      " 28  poste_12                    1261 non-null   float64       \n",
      " 29  poste_13                    1261 non-null   float64       \n",
      " 30  poste_14                    1261 non-null   float64       \n",
      " 31  poste_15                    1261 non-null   float64       \n",
      " 32  poste_16                    1261 non-null   float64       \n",
      " 33  poste_17                    1261 non-null   float64       \n",
      " 34  poste_18                    1261 non-null   float64       \n",
      " 35  poste_19                    1261 non-null   float64       \n",
      " 36  poste_20                    1261 non-null   float64       \n",
      " 37  poste_21                    1261 non-null   float64       \n",
      " 38  poste_22                    1261 non-null   float64       \n",
      " 39  poste_23                    1261 non-null   float64       \n",
      "dtypes: datetime64[ns](1), float64(27), int64(2), object(10)\n",
      "memory usage: 394.2+ KB\n"
     ]
    }
   ],
   "source": [
    "df_train.info()"
   ]
  },
  {
   "cell_type": "markdown",
   "metadata": {},
   "source": [
    "With the .info() method we see that we miss a lot of information in some columns."
   ]
  },
  {
   "cell_type": "code",
   "execution_count": 9,
   "metadata": {},
   "outputs": [
    {
     "data": {
      "application/vnd.plotly.v1+json": {
       "config": {
        "plotlyServerURL": "https://plot.ly"
       },
       "data": [
        {
         "alignmentgroup": "True",
         "hovertemplate": "x=%{x}<br>y=%{y}<extra></extra>",
         "legendgroup": "",
         "marker": {
          "color": "#636efa",
          "pattern": {
           "shape": ""
          }
         },
         "name": "",
         "offsetgroup": "",
         "orientation": "v",
         "showlegend": false,
         "textposition": "auto",
         "type": "bar",
         "x": [
          "C. Industrie Manufacturière",
          "G. Commerce; réparation d'automobiles et de motocycles",
          "K. Activité financières et d'assurance",
          "M. Activités spécialisées, scientifiques et techniques",
          "N. Activités de services de services administratifs et de soutien",
          "H. Transport et entreposage",
          "O. Administration publique",
          "F. Construction",
          "J. Information et communication",
          "Q. Santé humaine et action sociale",
          "I. Hébergement et restauration",
          "E. Production et distribution d'eau; assainissement, gestion des déchets et dépollution",
          "L. Activités immobilières",
          "S. Autres activités de service",
          "D. Production et distribution d'électricité, de gaz, de vapeur et d'air conditionné",
          "A. Agriculture, sylviculture et pêche",
          "R. Art, spectacles et activités récréatives",
          "P. Enseignement",
          "S. Autres activités de services"
         ],
         "xaxis": "x",
         "y": [
          358,
          176,
          125,
          108,
          81,
          80,
          72,
          70,
          63,
          42,
          23,
          22,
          13,
          11,
          9,
          3,
          2,
          2,
          1
         ],
         "yaxis": "y"
        }
       ],
       "layout": {
        "barmode": "relative",
        "legend": {
         "tracegroupgap": 0
        },
        "template": {
         "data": {
          "bar": [
           {
            "error_x": {
             "color": "#2a3f5f"
            },
            "error_y": {
             "color": "#2a3f5f"
            },
            "marker": {
             "line": {
              "color": "#E5ECF6",
              "width": 0.5
             },
             "pattern": {
              "fillmode": "overlay",
              "size": 10,
              "solidity": 0.2
             }
            },
            "type": "bar"
           }
          ],
          "barpolar": [
           {
            "marker": {
             "line": {
              "color": "#E5ECF6",
              "width": 0.5
             },
             "pattern": {
              "fillmode": "overlay",
              "size": 10,
              "solidity": 0.2
             }
            },
            "type": "barpolar"
           }
          ],
          "carpet": [
           {
            "aaxis": {
             "endlinecolor": "#2a3f5f",
             "gridcolor": "white",
             "linecolor": "white",
             "minorgridcolor": "white",
             "startlinecolor": "#2a3f5f"
            },
            "baxis": {
             "endlinecolor": "#2a3f5f",
             "gridcolor": "white",
             "linecolor": "white",
             "minorgridcolor": "white",
             "startlinecolor": "#2a3f5f"
            },
            "type": "carpet"
           }
          ],
          "choropleth": [
           {
            "colorbar": {
             "outlinewidth": 0,
             "ticks": ""
            },
            "type": "choropleth"
           }
          ],
          "contour": [
           {
            "colorbar": {
             "outlinewidth": 0,
             "ticks": ""
            },
            "colorscale": [
             [
              0,
              "#0d0887"
             ],
             [
              0.1111111111111111,
              "#46039f"
             ],
             [
              0.2222222222222222,
              "#7201a8"
             ],
             [
              0.3333333333333333,
              "#9c179e"
             ],
             [
              0.4444444444444444,
              "#bd3786"
             ],
             [
              0.5555555555555556,
              "#d8576b"
             ],
             [
              0.6666666666666666,
              "#ed7953"
             ],
             [
              0.7777777777777778,
              "#fb9f3a"
             ],
             [
              0.8888888888888888,
              "#fdca26"
             ],
             [
              1,
              "#f0f921"
             ]
            ],
            "type": "contour"
           }
          ],
          "contourcarpet": [
           {
            "colorbar": {
             "outlinewidth": 0,
             "ticks": ""
            },
            "type": "contourcarpet"
           }
          ],
          "heatmap": [
           {
            "colorbar": {
             "outlinewidth": 0,
             "ticks": ""
            },
            "colorscale": [
             [
              0,
              "#0d0887"
             ],
             [
              0.1111111111111111,
              "#46039f"
             ],
             [
              0.2222222222222222,
              "#7201a8"
             ],
             [
              0.3333333333333333,
              "#9c179e"
             ],
             [
              0.4444444444444444,
              "#bd3786"
             ],
             [
              0.5555555555555556,
              "#d8576b"
             ],
             [
              0.6666666666666666,
              "#ed7953"
             ],
             [
              0.7777777777777778,
              "#fb9f3a"
             ],
             [
              0.8888888888888888,
              "#fdca26"
             ],
             [
              1,
              "#f0f921"
             ]
            ],
            "type": "heatmap"
           }
          ],
          "heatmapgl": [
           {
            "colorbar": {
             "outlinewidth": 0,
             "ticks": ""
            },
            "colorscale": [
             [
              0,
              "#0d0887"
             ],
             [
              0.1111111111111111,
              "#46039f"
             ],
             [
              0.2222222222222222,
              "#7201a8"
             ],
             [
              0.3333333333333333,
              "#9c179e"
             ],
             [
              0.4444444444444444,
              "#bd3786"
             ],
             [
              0.5555555555555556,
              "#d8576b"
             ],
             [
              0.6666666666666666,
              "#ed7953"
             ],
             [
              0.7777777777777778,
              "#fb9f3a"
             ],
             [
              0.8888888888888888,
              "#fdca26"
             ],
             [
              1,
              "#f0f921"
             ]
            ],
            "type": "heatmapgl"
           }
          ],
          "histogram": [
           {
            "marker": {
             "pattern": {
              "fillmode": "overlay",
              "size": 10,
              "solidity": 0.2
             }
            },
            "type": "histogram"
           }
          ],
          "histogram2d": [
           {
            "colorbar": {
             "outlinewidth": 0,
             "ticks": ""
            },
            "colorscale": [
             [
              0,
              "#0d0887"
             ],
             [
              0.1111111111111111,
              "#46039f"
             ],
             [
              0.2222222222222222,
              "#7201a8"
             ],
             [
              0.3333333333333333,
              "#9c179e"
             ],
             [
              0.4444444444444444,
              "#bd3786"
             ],
             [
              0.5555555555555556,
              "#d8576b"
             ],
             [
              0.6666666666666666,
              "#ed7953"
             ],
             [
              0.7777777777777778,
              "#fb9f3a"
             ],
             [
              0.8888888888888888,
              "#fdca26"
             ],
             [
              1,
              "#f0f921"
             ]
            ],
            "type": "histogram2d"
           }
          ],
          "histogram2dcontour": [
           {
            "colorbar": {
             "outlinewidth": 0,
             "ticks": ""
            },
            "colorscale": [
             [
              0,
              "#0d0887"
             ],
             [
              0.1111111111111111,
              "#46039f"
             ],
             [
              0.2222222222222222,
              "#7201a8"
             ],
             [
              0.3333333333333333,
              "#9c179e"
             ],
             [
              0.4444444444444444,
              "#bd3786"
             ],
             [
              0.5555555555555556,
              "#d8576b"
             ],
             [
              0.6666666666666666,
              "#ed7953"
             ],
             [
              0.7777777777777778,
              "#fb9f3a"
             ],
             [
              0.8888888888888888,
              "#fdca26"
             ],
             [
              1,
              "#f0f921"
             ]
            ],
            "type": "histogram2dcontour"
           }
          ],
          "mesh3d": [
           {
            "colorbar": {
             "outlinewidth": 0,
             "ticks": ""
            },
            "type": "mesh3d"
           }
          ],
          "parcoords": [
           {
            "line": {
             "colorbar": {
              "outlinewidth": 0,
              "ticks": ""
             }
            },
            "type": "parcoords"
           }
          ],
          "pie": [
           {
            "automargin": true,
            "type": "pie"
           }
          ],
          "scatter": [
           {
            "marker": {
             "colorbar": {
              "outlinewidth": 0,
              "ticks": ""
             }
            },
            "type": "scatter"
           }
          ],
          "scatter3d": [
           {
            "line": {
             "colorbar": {
              "outlinewidth": 0,
              "ticks": ""
             }
            },
            "marker": {
             "colorbar": {
              "outlinewidth": 0,
              "ticks": ""
             }
            },
            "type": "scatter3d"
           }
          ],
          "scattercarpet": [
           {
            "marker": {
             "colorbar": {
              "outlinewidth": 0,
              "ticks": ""
             }
            },
            "type": "scattercarpet"
           }
          ],
          "scattergeo": [
           {
            "marker": {
             "colorbar": {
              "outlinewidth": 0,
              "ticks": ""
             }
            },
            "type": "scattergeo"
           }
          ],
          "scattergl": [
           {
            "marker": {
             "colorbar": {
              "outlinewidth": 0,
              "ticks": ""
             }
            },
            "type": "scattergl"
           }
          ],
          "scattermapbox": [
           {
            "marker": {
             "colorbar": {
              "outlinewidth": 0,
              "ticks": ""
             }
            },
            "type": "scattermapbox"
           }
          ],
          "scatterpolar": [
           {
            "marker": {
             "colorbar": {
              "outlinewidth": 0,
              "ticks": ""
             }
            },
            "type": "scatterpolar"
           }
          ],
          "scatterpolargl": [
           {
            "marker": {
             "colorbar": {
              "outlinewidth": 0,
              "ticks": ""
             }
            },
            "type": "scatterpolargl"
           }
          ],
          "scatterternary": [
           {
            "marker": {
             "colorbar": {
              "outlinewidth": 0,
              "ticks": ""
             }
            },
            "type": "scatterternary"
           }
          ],
          "surface": [
           {
            "colorbar": {
             "outlinewidth": 0,
             "ticks": ""
            },
            "colorscale": [
             [
              0,
              "#0d0887"
             ],
             [
              0.1111111111111111,
              "#46039f"
             ],
             [
              0.2222222222222222,
              "#7201a8"
             ],
             [
              0.3333333333333333,
              "#9c179e"
             ],
             [
              0.4444444444444444,
              "#bd3786"
             ],
             [
              0.5555555555555556,
              "#d8576b"
             ],
             [
              0.6666666666666666,
              "#ed7953"
             ],
             [
              0.7777777777777778,
              "#fb9f3a"
             ],
             [
              0.8888888888888888,
              "#fdca26"
             ],
             [
              1,
              "#f0f921"
             ]
            ],
            "type": "surface"
           }
          ],
          "table": [
           {
            "cells": {
             "fill": {
              "color": "#EBF0F8"
             },
             "line": {
              "color": "white"
             }
            },
            "header": {
             "fill": {
              "color": "#C8D4E3"
             },
             "line": {
              "color": "white"
             }
            },
            "type": "table"
           }
          ]
         },
         "layout": {
          "annotationdefaults": {
           "arrowcolor": "#2a3f5f",
           "arrowhead": 0,
           "arrowwidth": 1
          },
          "autotypenumbers": "strict",
          "coloraxis": {
           "colorbar": {
            "outlinewidth": 0,
            "ticks": ""
           }
          },
          "colorscale": {
           "diverging": [
            [
             0,
             "#8e0152"
            ],
            [
             0.1,
             "#c51b7d"
            ],
            [
             0.2,
             "#de77ae"
            ],
            [
             0.3,
             "#f1b6da"
            ],
            [
             0.4,
             "#fde0ef"
            ],
            [
             0.5,
             "#f7f7f7"
            ],
            [
             0.6,
             "#e6f5d0"
            ],
            [
             0.7,
             "#b8e186"
            ],
            [
             0.8,
             "#7fbc41"
            ],
            [
             0.9,
             "#4d9221"
            ],
            [
             1,
             "#276419"
            ]
           ],
           "sequential": [
            [
             0,
             "#0d0887"
            ],
            [
             0.1111111111111111,
             "#46039f"
            ],
            [
             0.2222222222222222,
             "#7201a8"
            ],
            [
             0.3333333333333333,
             "#9c179e"
            ],
            [
             0.4444444444444444,
             "#bd3786"
            ],
            [
             0.5555555555555556,
             "#d8576b"
            ],
            [
             0.6666666666666666,
             "#ed7953"
            ],
            [
             0.7777777777777778,
             "#fb9f3a"
            ],
            [
             0.8888888888888888,
             "#fdca26"
            ],
            [
             1,
             "#f0f921"
            ]
           ],
           "sequentialminus": [
            [
             0,
             "#0d0887"
            ],
            [
             0.1111111111111111,
             "#46039f"
            ],
            [
             0.2222222222222222,
             "#7201a8"
            ],
            [
             0.3333333333333333,
             "#9c179e"
            ],
            [
             0.4444444444444444,
             "#bd3786"
            ],
            [
             0.5555555555555556,
             "#d8576b"
            ],
            [
             0.6666666666666666,
             "#ed7953"
            ],
            [
             0.7777777777777778,
             "#fb9f3a"
            ],
            [
             0.8888888888888888,
             "#fdca26"
            ],
            [
             1,
             "#f0f921"
            ]
           ]
          },
          "colorway": [
           "#636efa",
           "#EF553B",
           "#00cc96",
           "#ab63fa",
           "#FFA15A",
           "#19d3f3",
           "#FF6692",
           "#B6E880",
           "#FF97FF",
           "#FECB52"
          ],
          "font": {
           "color": "#2a3f5f"
          },
          "geo": {
           "bgcolor": "white",
           "lakecolor": "white",
           "landcolor": "#E5ECF6",
           "showlakes": true,
           "showland": true,
           "subunitcolor": "white"
          },
          "hoverlabel": {
           "align": "left"
          },
          "hovermode": "closest",
          "mapbox": {
           "style": "light"
          },
          "paper_bgcolor": "white",
          "plot_bgcolor": "#E5ECF6",
          "polar": {
           "angularaxis": {
            "gridcolor": "white",
            "linecolor": "white",
            "ticks": ""
           },
           "bgcolor": "#E5ECF6",
           "radialaxis": {
            "gridcolor": "white",
            "linecolor": "white",
            "ticks": ""
           }
          },
          "scene": {
           "xaxis": {
            "backgroundcolor": "#E5ECF6",
            "gridcolor": "white",
            "gridwidth": 2,
            "linecolor": "white",
            "showbackground": true,
            "ticks": "",
            "zerolinecolor": "white"
           },
           "yaxis": {
            "backgroundcolor": "#E5ECF6",
            "gridcolor": "white",
            "gridwidth": 2,
            "linecolor": "white",
            "showbackground": true,
            "ticks": "",
            "zerolinecolor": "white"
           },
           "zaxis": {
            "backgroundcolor": "#E5ECF6",
            "gridcolor": "white",
            "gridwidth": 2,
            "linecolor": "white",
            "showbackground": true,
            "ticks": "",
            "zerolinecolor": "white"
           }
          },
          "shapedefaults": {
           "line": {
            "color": "#2a3f5f"
           }
          },
          "ternary": {
           "aaxis": {
            "gridcolor": "white",
            "linecolor": "white",
            "ticks": ""
           },
           "baxis": {
            "gridcolor": "white",
            "linecolor": "white",
            "ticks": ""
           },
           "bgcolor": "#E5ECF6",
           "caxis": {
            "gridcolor": "white",
            "linecolor": "white",
            "ticks": ""
           }
          },
          "title": {
           "x": 0.05
          },
          "xaxis": {
           "automargin": true,
           "gridcolor": "white",
           "linecolor": "white",
           "ticks": "",
           "title": {
            "standoff": 15
           },
           "zerolinecolor": "white",
           "zerolinewidth": 2
          },
          "yaxis": {
           "automargin": true,
           "gridcolor": "white",
           "linecolor": "white",
           "ticks": "",
           "title": {
            "standoff": 15
           },
           "zerolinecolor": "white",
           "zerolinewidth": 2
          }
         }
        },
        "title": {
         "text": "Number of instances per NAF macrosector"
        },
        "xaxis": {
         "anchor": "y",
         "domain": [
          0,
          1
         ],
         "title": {
          "text": "x"
         }
        },
        "yaxis": {
         "anchor": "x",
         "domain": [
          0,
          1
         ],
         "title": {
          "text": "y"
         }
        }
       }
      }
     },
     "metadata": {},
     "output_type": "display_data"
    }
   ],
   "source": [
    "px.bar(df_train, x = df_train['sector_naf_level_0_details'].value_counts().index, y = df_train['sector_naf_level_0_details'].value_counts().values, title= \"Number of instances per NAF macrosector\" )"
   ]
  },
  {
   "cell_type": "code",
   "execution_count": 10,
   "metadata": {},
   "outputs": [
    {
     "data": {
      "application/vnd.plotly.v1+json": {
       "config": {
        "plotlyServerURL": "https://plot.ly"
       },
       "data": [
        {
         "alignmentgroup": "True",
         "hovertemplate": "sector_naf_level_0_details=%{x}<br>emissions_total=%{y}<extra></extra>",
         "legendgroup": "",
         "marker": {
          "color": "#636efa"
         },
         "name": "",
         "notched": false,
         "offsetgroup": "",
         "orientation": "v",
         "showlegend": false,
         "type": "box",
         "x": [
          "C. Industrie Manufacturière",
          "C. Industrie Manufacturière",
          "K. Activité financières et d'assurance",
          "J. Information et communication",
          "L. Activités immobilières",
          "K. Activité financières et d'assurance",
          "C. Industrie Manufacturière",
          "M. Activités spécialisées, scientifiques et techniques",
          "K. Activité financières et d'assurance",
          "C. Industrie Manufacturière",
          "J. Information et communication",
          "C. Industrie Manufacturière",
          "M. Activités spécialisées, scientifiques et techniques",
          "C. Industrie Manufacturière",
          "C. Industrie Manufacturière",
          "O. Administration publique",
          "J. Information et communication",
          "O. Administration publique",
          "L. Activités immobilières",
          "C. Industrie Manufacturière",
          "F. Construction",
          "K. Activité financières et d'assurance",
          "M. Activités spécialisées, scientifiques et techniques",
          "C. Industrie Manufacturière",
          "C. Industrie Manufacturière",
          "M. Activités spécialisées, scientifiques et techniques",
          "H. Transport et entreposage",
          "C. Industrie Manufacturière",
          "Q. Santé humaine et action sociale",
          "N. Activités de services de services administratifs et de soutien",
          "K. Activité financières et d'assurance",
          "C. Industrie Manufacturière",
          "N. Activités de services de services administratifs et de soutien",
          "I. Hébergement et restauration",
          "M. Activités spécialisées, scientifiques et techniques",
          "Q. Santé humaine et action sociale",
          "C. Industrie Manufacturière",
          "J. Information et communication",
          "C. Industrie Manufacturière",
          "C. Industrie Manufacturière",
          "H. Transport et entreposage",
          "C. Industrie Manufacturière",
          "C. Industrie Manufacturière",
          "E. Production et distribution d'eau; assainissement, gestion des déchets et dépollution",
          "N. Activités de services de services administratifs et de soutien",
          "H. Transport et entreposage",
          "Q. Santé humaine et action sociale",
          "C. Industrie Manufacturière",
          "O. Administration publique",
          "C. Industrie Manufacturière",
          "C. Industrie Manufacturière",
          "K. Activité financières et d'assurance",
          "M. Activités spécialisées, scientifiques et techniques",
          "M. Activités spécialisées, scientifiques et techniques",
          "N. Activités de services de services administratifs et de soutien",
          "C. Industrie Manufacturière",
          "O. Administration publique",
          "C. Industrie Manufacturière",
          "M. Activités spécialisées, scientifiques et techniques",
          "N. Activités de services de services administratifs et de soutien",
          "N. Activités de services de services administratifs et de soutien",
          "O. Administration publique",
          "K. Activité financières et d'assurance",
          "G. Commerce; réparation d'automobiles et de motocycles",
          "F. Construction",
          "N. Activités de services de services administratifs et de soutien",
          "M. Activités spécialisées, scientifiques et techniques",
          "C. Industrie Manufacturière",
          "C. Industrie Manufacturière",
          "F. Construction",
          "K. Activité financières et d'assurance",
          "G. Commerce; réparation d'automobiles et de motocycles",
          "C. Industrie Manufacturière",
          "O. Administration publique",
          "C. Industrie Manufacturière",
          "N. Activités de services de services administratifs et de soutien",
          "G. Commerce; réparation d'automobiles et de motocycles",
          "N. Activités de services de services administratifs et de soutien",
          "F. Construction",
          "C. Industrie Manufacturière",
          "N. Activités de services de services administratifs et de soutien",
          "K. Activité financières et d'assurance",
          "H. Transport et entreposage",
          "H. Transport et entreposage",
          "G. Commerce; réparation d'automobiles et de motocycles",
          "G. Commerce; réparation d'automobiles et de motocycles",
          "K. Activité financières et d'assurance",
          "J. Information et communication",
          "G. Commerce; réparation d'automobiles et de motocycles",
          "C. Industrie Manufacturière",
          "Q. Santé humaine et action sociale",
          "H. Transport et entreposage",
          "N. Activités de services de services administratifs et de soutien",
          "K. Activité financières et d'assurance",
          "K. Activité financières et d'assurance",
          "S. Autres activités de services",
          "M. Activités spécialisées, scientifiques et techniques",
          "C. Industrie Manufacturière",
          "G. Commerce; réparation d'automobiles et de motocycles",
          "C. Industrie Manufacturière",
          "G. Commerce; réparation d'automobiles et de motocycles",
          "H. Transport et entreposage",
          "C. Industrie Manufacturière",
          "C. Industrie Manufacturière",
          "C. Industrie Manufacturière",
          "C. Industrie Manufacturière",
          "G. Commerce; réparation d'automobiles et de motocycles",
          "G. Commerce; réparation d'automobiles et de motocycles",
          "F. Construction",
          "C. Industrie Manufacturière",
          "K. Activité financières et d'assurance",
          "M. Activités spécialisées, scientifiques et techniques",
          "C. Industrie Manufacturière",
          "C. Industrie Manufacturière",
          "Q. Santé humaine et action sociale",
          "Q. Santé humaine et action sociale",
          "C. Industrie Manufacturière",
          "H. Transport et entreposage",
          "J. Information et communication",
          "G. Commerce; réparation d'automobiles et de motocycles",
          "E. Production et distribution d'eau; assainissement, gestion des déchets et dépollution",
          "M. Activités spécialisées, scientifiques et techniques",
          "K. Activité financières et d'assurance",
          "K. Activité financières et d'assurance",
          "H. Transport et entreposage",
          "C. Industrie Manufacturière",
          "C. Industrie Manufacturière",
          "J. Information et communication",
          "G. Commerce; réparation d'automobiles et de motocycles",
          "I. Hébergement et restauration",
          "N. Activités de services de services administratifs et de soutien",
          "C. Industrie Manufacturière",
          "C. Industrie Manufacturière",
          "J. Information et communication",
          "H. Transport et entreposage",
          "C. Industrie Manufacturière",
          "M. Activités spécialisées, scientifiques et techniques",
          "C. Industrie Manufacturière",
          "C. Industrie Manufacturière",
          "Q. Santé humaine et action sociale",
          "K. Activité financières et d'assurance",
          "A. Agriculture, sylviculture et pêche",
          "K. Activité financières et d'assurance",
          "C. Industrie Manufacturière",
          "C. Industrie Manufacturière",
          "G. Commerce; réparation d'automobiles et de motocycles",
          "C. Industrie Manufacturière",
          "L. Activités immobilières",
          "C. Industrie Manufacturière",
          "C. Industrie Manufacturière",
          "M. Activités spécialisées, scientifiques et techniques",
          "C. Industrie Manufacturière",
          "C. Industrie Manufacturière",
          "Q. Santé humaine et action sociale",
          "M. Activités spécialisées, scientifiques et techniques",
          "K. Activité financières et d'assurance",
          "M. Activités spécialisées, scientifiques et techniques",
          "J. Information et communication",
          "G. Commerce; réparation d'automobiles et de motocycles",
          "C. Industrie Manufacturière",
          "J. Information et communication",
          "F. Construction",
          "N. Activités de services de services administratifs et de soutien",
          "N. Activités de services de services administratifs et de soutien",
          "C. Industrie Manufacturière",
          "M. Activités spécialisées, scientifiques et techniques",
          "H. Transport et entreposage",
          "K. Activité financières et d'assurance",
          "C. Industrie Manufacturière",
          "C. Industrie Manufacturière",
          "O. Administration publique",
          "Q. Santé humaine et action sociale",
          "K. Activité financières et d'assurance",
          "C. Industrie Manufacturière",
          "F. Construction",
          "G. Commerce; réparation d'automobiles et de motocycles",
          "G. Commerce; réparation d'automobiles et de motocycles",
          "K. Activité financières et d'assurance",
          "K. Activité financières et d'assurance",
          "E. Production et distribution d'eau; assainissement, gestion des déchets et dépollution",
          "G. Commerce; réparation d'automobiles et de motocycles",
          "J. Information et communication",
          "K. Activité financières et d'assurance",
          "G. Commerce; réparation d'automobiles et de motocycles",
          "C. Industrie Manufacturière",
          "F. Construction",
          "N. Activités de services de services administratifs et de soutien",
          "H. Transport et entreposage",
          "G. Commerce; réparation d'automobiles et de motocycles",
          "M. Activités spécialisées, scientifiques et techniques",
          "C. Industrie Manufacturière",
          "G. Commerce; réparation d'automobiles et de motocycles",
          "H. Transport et entreposage",
          "O. Administration publique",
          "M. Activités spécialisées, scientifiques et techniques",
          "C. Industrie Manufacturière",
          "I. Hébergement et restauration",
          "C. Industrie Manufacturière",
          "Q. Santé humaine et action sociale",
          "G. Commerce; réparation d'automobiles et de motocycles",
          "K. Activité financières et d'assurance",
          "C. Industrie Manufacturière",
          "O. Administration publique",
          "G. Commerce; réparation d'automobiles et de motocycles",
          "F. Construction",
          "C. Industrie Manufacturière",
          "H. Transport et entreposage",
          "N. Activités de services de services administratifs et de soutien",
          "G. Commerce; réparation d'automobiles et de motocycles",
          "C. Industrie Manufacturière",
          "G. Commerce; réparation d'automobiles et de motocycles",
          "G. Commerce; réparation d'automobiles et de motocycles",
          "C. Industrie Manufacturière",
          "H. Transport et entreposage",
          "C. Industrie Manufacturière",
          "C. Industrie Manufacturière",
          "E. Production et distribution d'eau; assainissement, gestion des déchets et dépollution",
          "H. Transport et entreposage",
          "F. Construction",
          "G. Commerce; réparation d'automobiles et de motocycles",
          "N. Activités de services de services administratifs et de soutien",
          "G. Commerce; réparation d'automobiles et de motocycles",
          "C. Industrie Manufacturière",
          "N. Activités de services de services administratifs et de soutien",
          "G. Commerce; réparation d'automobiles et de motocycles",
          "G. Commerce; réparation d'automobiles et de motocycles",
          "O. Administration publique",
          "G. Commerce; réparation d'automobiles et de motocycles",
          "K. Activité financières et d'assurance",
          "O. Administration publique",
          "F. Construction",
          "I. Hébergement et restauration",
          "C. Industrie Manufacturière",
          "C. Industrie Manufacturière",
          "C. Industrie Manufacturière",
          "C. Industrie Manufacturière",
          "O. Administration publique",
          "G. Commerce; réparation d'automobiles et de motocycles",
          "J. Information et communication",
          "K. Activité financières et d'assurance",
          "O. Administration publique",
          "O. Administration publique",
          "Q. Santé humaine et action sociale",
          "G. Commerce; réparation d'automobiles et de motocycles",
          "H. Transport et entreposage",
          "K. Activité financières et d'assurance",
          "C. Industrie Manufacturière",
          "H. Transport et entreposage",
          "O. Administration publique",
          "G. Commerce; réparation d'automobiles et de motocycles",
          "O. Administration publique",
          "H. Transport et entreposage",
          "K. Activité financières et d'assurance",
          "C. Industrie Manufacturière",
          "G. Commerce; réparation d'automobiles et de motocycles",
          "C. Industrie Manufacturière",
          "C. Industrie Manufacturière",
          "K. Activité financières et d'assurance",
          "J. Information et communication",
          "M. Activités spécialisées, scientifiques et techniques",
          "F. Construction",
          "Q. Santé humaine et action sociale",
          "C. Industrie Manufacturière",
          "M. Activités spécialisées, scientifiques et techniques",
          "M. Activités spécialisées, scientifiques et techniques",
          "E. Production et distribution d'eau; assainissement, gestion des déchets et dépollution",
          "C. Industrie Manufacturière",
          "H. Transport et entreposage",
          "C. Industrie Manufacturière",
          "G. Commerce; réparation d'automobiles et de motocycles",
          "H. Transport et entreposage",
          "G. Commerce; réparation d'automobiles et de motocycles",
          "O. Administration publique",
          "H. Transport et entreposage",
          "G. Commerce; réparation d'automobiles et de motocycles",
          "C. Industrie Manufacturière",
          "K. Activité financières et d'assurance",
          "C. Industrie Manufacturière",
          "C. Industrie Manufacturière",
          "C. Industrie Manufacturière",
          "G. Commerce; réparation d'automobiles et de motocycles",
          "F. Construction",
          "C. Industrie Manufacturière",
          "C. Industrie Manufacturière",
          "K. Activité financières et d'assurance",
          "C. Industrie Manufacturière",
          "H. Transport et entreposage",
          "F. Construction",
          "J. Information et communication",
          "N. Activités de services de services administratifs et de soutien",
          "C. Industrie Manufacturière",
          "J. Information et communication",
          "C. Industrie Manufacturière",
          "M. Activités spécialisées, scientifiques et techniques",
          "C. Industrie Manufacturière",
          "C. Industrie Manufacturière",
          "H. Transport et entreposage",
          "C. Industrie Manufacturière",
          "N. Activités de services de services administratifs et de soutien",
          "G. Commerce; réparation d'automobiles et de motocycles",
          "G. Commerce; réparation d'automobiles et de motocycles",
          "J. Information et communication",
          "G. Commerce; réparation d'automobiles et de motocycles",
          "F. Construction",
          "C. Industrie Manufacturière",
          "G. Commerce; réparation d'automobiles et de motocycles",
          "G. Commerce; réparation d'automobiles et de motocycles",
          "M. Activités spécialisées, scientifiques et techniques",
          "C. Industrie Manufacturière",
          "G. Commerce; réparation d'automobiles et de motocycles",
          "E. Production et distribution d'eau; assainissement, gestion des déchets et dépollution",
          "M. Activités spécialisées, scientifiques et techniques",
          "N. Activités de services de services administratifs et de soutien",
          "J. Information et communication",
          "N. Activités de services de services administratifs et de soutien",
          "C. Industrie Manufacturière",
          "N. Activités de services de services administratifs et de soutien",
          "G. Commerce; réparation d'automobiles et de motocycles",
          "N. Activités de services de services administratifs et de soutien",
          "C. Industrie Manufacturière",
          "S. Autres activités de service",
          "I. Hébergement et restauration",
          "J. Information et communication",
          "M. Activités spécialisées, scientifiques et techniques",
          "G. Commerce; réparation d'automobiles et de motocycles",
          "G. Commerce; réparation d'automobiles et de motocycles",
          "K. Activité financières et d'assurance",
          "C. Industrie Manufacturière",
          "C. Industrie Manufacturière",
          "C. Industrie Manufacturière",
          "K. Activité financières et d'assurance",
          "C. Industrie Manufacturière",
          "N. Activités de services de services administratifs et de soutien",
          "G. Commerce; réparation d'automobiles et de motocycles",
          "C. Industrie Manufacturière",
          "G. Commerce; réparation d'automobiles et de motocycles",
          "C. Industrie Manufacturière",
          "C. Industrie Manufacturière",
          "J. Information et communication",
          "C. Industrie Manufacturière",
          "G. Commerce; réparation d'automobiles et de motocycles",
          "C. Industrie Manufacturière",
          "H. Transport et entreposage",
          "C. Industrie Manufacturière",
          "M. Activités spécialisées, scientifiques et techniques",
          "L. Activités immobilières",
          "J. Information et communication",
          "C. Industrie Manufacturière",
          "G. Commerce; réparation d'automobiles et de motocycles",
          "C. Industrie Manufacturière",
          "K. Activité financières et d'assurance",
          "C. Industrie Manufacturière",
          "C. Industrie Manufacturière",
          "G. Commerce; réparation d'automobiles et de motocycles",
          "J. Information et communication",
          "I. Hébergement et restauration",
          "K. Activité financières et d'assurance",
          "K. Activité financières et d'assurance",
          "C. Industrie Manufacturière",
          "K. Activité financières et d'assurance",
          "K. Activité financières et d'assurance",
          "H. Transport et entreposage",
          "Q. Santé humaine et action sociale",
          "K. Activité financières et d'assurance",
          "G. Commerce; réparation d'automobiles et de motocycles",
          "I. Hébergement et restauration",
          "G. Commerce; réparation d'automobiles et de motocycles",
          "K. Activité financières et d'assurance",
          "Q. Santé humaine et action sociale",
          "J. Information et communication",
          "K. Activité financières et d'assurance",
          "O. Administration publique",
          "G. Commerce; réparation d'automobiles et de motocycles",
          "Q. Santé humaine et action sociale",
          "C. Industrie Manufacturière",
          "F. Construction",
          "H. Transport et entreposage",
          "M. Activités spécialisées, scientifiques et techniques",
          "C. Industrie Manufacturière",
          "I. Hébergement et restauration",
          "F. Construction",
          "G. Commerce; réparation d'automobiles et de motocycles",
          "C. Industrie Manufacturière",
          "J. Information et communication",
          "M. Activités spécialisées, scientifiques et techniques",
          "C. Industrie Manufacturière",
          "J. Information et communication",
          "O. Administration publique",
          "K. Activité financières et d'assurance",
          "C. Industrie Manufacturière",
          "C. Industrie Manufacturière",
          "G. Commerce; réparation d'automobiles et de motocycles",
          "Q. Santé humaine et action sociale",
          "G. Commerce; réparation d'automobiles et de motocycles",
          "K. Activité financières et d'assurance",
          "C. Industrie Manufacturière",
          "S. Autres activités de service",
          "C. Industrie Manufacturière",
          "C. Industrie Manufacturière",
          "F. Construction",
          "Q. Santé humaine et action sociale",
          "F. Construction",
          "N. Activités de services de services administratifs et de soutien",
          "Q. Santé humaine et action sociale",
          "F. Construction",
          "H. Transport et entreposage",
          "M. Activités spécialisées, scientifiques et techniques",
          "Q. Santé humaine et action sociale",
          "M. Activités spécialisées, scientifiques et techniques",
          "O. Administration publique",
          "J. Information et communication",
          "K. Activité financières et d'assurance",
          "G. Commerce; réparation d'automobiles et de motocycles",
          "M. Activités spécialisées, scientifiques et techniques",
          "C. Industrie Manufacturière",
          "Q. Santé humaine et action sociale",
          "G. Commerce; réparation d'automobiles et de motocycles",
          "O. Administration publique",
          "H. Transport et entreposage",
          "N. Activités de services de services administratifs et de soutien",
          "F. Construction",
          "M. Activités spécialisées, scientifiques et techniques",
          "G. Commerce; réparation d'automobiles et de motocycles",
          "C. Industrie Manufacturière",
          "K. Activité financières et d'assurance",
          "N. Activités de services de services administratifs et de soutien",
          "G. Commerce; réparation d'automobiles et de motocycles",
          "N. Activités de services de services administratifs et de soutien",
          "N. Activités de services de services administratifs et de soutien",
          "G. Commerce; réparation d'automobiles et de motocycles",
          "C. Industrie Manufacturière",
          "F. Construction",
          "H. Transport et entreposage",
          "N. Activités de services de services administratifs et de soutien",
          "G. Commerce; réparation d'automobiles et de motocycles",
          "C. Industrie Manufacturière",
          "C. Industrie Manufacturière",
          "C. Industrie Manufacturière",
          "F. Construction",
          "G. Commerce; réparation d'automobiles et de motocycles",
          "M. Activités spécialisées, scientifiques et techniques",
          "F. Construction",
          "K. Activité financières et d'assurance",
          "O. Administration publique",
          "M. Activités spécialisées, scientifiques et techniques",
          "K. Activité financières et d'assurance",
          "C. Industrie Manufacturière",
          "G. Commerce; réparation d'automobiles et de motocycles",
          "S. Autres activités de service",
          "H. Transport et entreposage",
          "O. Administration publique",
          "M. Activités spécialisées, scientifiques et techniques",
          "C. Industrie Manufacturière",
          "N. Activités de services de services administratifs et de soutien",
          "G. Commerce; réparation d'automobiles et de motocycles",
          "O. Administration publique",
          "G. Commerce; réparation d'automobiles et de motocycles",
          "J. Information et communication",
          "O. Administration publique",
          "H. Transport et entreposage",
          "C. Industrie Manufacturière",
          "K. Activité financières et d'assurance",
          "C. Industrie Manufacturière",
          "H. Transport et entreposage",
          "C. Industrie Manufacturière",
          "C. Industrie Manufacturière",
          "G. Commerce; réparation d'automobiles et de motocycles",
          "M. Activités spécialisées, scientifiques et techniques",
          "G. Commerce; réparation d'automobiles et de motocycles",
          "G. Commerce; réparation d'automobiles et de motocycles",
          "M. Activités spécialisées, scientifiques et techniques",
          "G. Commerce; réparation d'automobiles et de motocycles",
          "M. Activités spécialisées, scientifiques et techniques",
          "K. Activité financières et d'assurance",
          "G. Commerce; réparation d'automobiles et de motocycles",
          "E. Production et distribution d'eau; assainissement, gestion des déchets et dépollution",
          "M. Activités spécialisées, scientifiques et techniques",
          "C. Industrie Manufacturière",
          "C. Industrie Manufacturière",
          "C. Industrie Manufacturière",
          "H. Transport et entreposage",
          "C. Industrie Manufacturière",
          "F. Construction",
          "F. Construction",
          "C. Industrie Manufacturière",
          "C. Industrie Manufacturière",
          "C. Industrie Manufacturière",
          "G. Commerce; réparation d'automobiles et de motocycles",
          "M. Activités spécialisées, scientifiques et techniques",
          "C. Industrie Manufacturière",
          "C. Industrie Manufacturière",
          "N. Activités de services de services administratifs et de soutien",
          "G. Commerce; réparation d'automobiles et de motocycles",
          "F. Construction",
          "K. Activité financières et d'assurance",
          "O. Administration publique",
          "J. Information et communication",
          "G. Commerce; réparation d'automobiles et de motocycles",
          "G. Commerce; réparation d'automobiles et de motocycles",
          "K. Activité financières et d'assurance",
          "H. Transport et entreposage",
          "L. Activités immobilières",
          "G. Commerce; réparation d'automobiles et de motocycles",
          "K. Activité financières et d'assurance",
          "G. Commerce; réparation d'automobiles et de motocycles",
          "K. Activité financières et d'assurance",
          "C. Industrie Manufacturière",
          "C. Industrie Manufacturière",
          "G. Commerce; réparation d'automobiles et de motocycles",
          "K. Activité financières et d'assurance",
          "M. Activités spécialisées, scientifiques et techniques",
          "F. Construction",
          "M. Activités spécialisées, scientifiques et techniques",
          "J. Information et communication",
          "C. Industrie Manufacturière",
          "M. Activités spécialisées, scientifiques et techniques",
          "F. Construction",
          "I. Hébergement et restauration",
          "C. Industrie Manufacturière",
          "C. Industrie Manufacturière",
          "O. Administration publique",
          "C. Industrie Manufacturière",
          "C. Industrie Manufacturière",
          "G. Commerce; réparation d'automobiles et de motocycles",
          "J. Information et communication",
          "C. Industrie Manufacturière",
          "O. Administration publique",
          "J. Information et communication",
          "F. Construction",
          "C. Industrie Manufacturière",
          "O. Administration publique",
          "C. Industrie Manufacturière",
          "Q. Santé humaine et action sociale",
          "C. Industrie Manufacturière",
          "C. Industrie Manufacturière",
          "C. Industrie Manufacturière",
          "C. Industrie Manufacturière",
          "G. Commerce; réparation d'automobiles et de motocycles",
          "K. Activité financières et d'assurance",
          "N. Activités de services de services administratifs et de soutien",
          "H. Transport et entreposage",
          "F. Construction",
          "F. Construction",
          "C. Industrie Manufacturière",
          "C. Industrie Manufacturière",
          "N. Activités de services de services administratifs et de soutien",
          "N. Activités de services de services administratifs et de soutien",
          "C. Industrie Manufacturière",
          "M. Activités spécialisées, scientifiques et techniques",
          "Q. Santé humaine et action sociale",
          "C. Industrie Manufacturière",
          "M. Activités spécialisées, scientifiques et techniques",
          "C. Industrie Manufacturière",
          "I. Hébergement et restauration",
          "N. Activités de services de services administratifs et de soutien",
          "C. Industrie Manufacturière",
          "K. Activité financières et d'assurance",
          "N. Activités de services de services administratifs et de soutien",
          "C. Industrie Manufacturière",
          "H. Transport et entreposage",
          "C. Industrie Manufacturière",
          "S. Autres activités de service",
          "H. Transport et entreposage",
          "G. Commerce; réparation d'automobiles et de motocycles",
          "O. Administration publique",
          "N. Activités de services de services administratifs et de soutien",
          "F. Construction",
          "Q. Santé humaine et action sociale",
          "N. Activités de services de services administratifs et de soutien",
          "C. Industrie Manufacturière",
          "C. Industrie Manufacturière",
          "K. Activité financières et d'assurance",
          "F. Construction",
          "K. Activité financières et d'assurance",
          "K. Activité financières et d'assurance",
          "K. Activité financières et d'assurance",
          "E. Production et distribution d'eau; assainissement, gestion des déchets et dépollution",
          "G. Commerce; réparation d'automobiles et de motocycles",
          "M. Activités spécialisées, scientifiques et techniques",
          "H. Transport et entreposage",
          "H. Transport et entreposage",
          "G. Commerce; réparation d'automobiles et de motocycles",
          "G. Commerce; réparation d'automobiles et de motocycles",
          "F. Construction",
          "K. Activité financières et d'assurance",
          "C. Industrie Manufacturière",
          "C. Industrie Manufacturière",
          "K. Activité financières et d'assurance",
          "C. Industrie Manufacturière",
          "K. Activité financières et d'assurance",
          "H. Transport et entreposage",
          "O. Administration publique",
          "N. Activités de services de services administratifs et de soutien",
          "C. Industrie Manufacturière",
          "G. Commerce; réparation d'automobiles et de motocycles",
          "G. Commerce; réparation d'automobiles et de motocycles",
          "H. Transport et entreposage",
          "J. Information et communication",
          "G. Commerce; réparation d'automobiles et de motocycles",
          "N. Activités de services de services administratifs et de soutien",
          "C. Industrie Manufacturière",
          "C. Industrie Manufacturière",
          "C. Industrie Manufacturière",
          "M. Activités spécialisées, scientifiques et techniques",
          "D. Production et distribution d'électricité, de gaz, de vapeur et d'air conditionné",
          "K. Activité financières et d'assurance",
          "M. Activités spécialisées, scientifiques et techniques",
          "I. Hébergement et restauration",
          "N. Activités de services de services administratifs et de soutien",
          "G. Commerce; réparation d'automobiles et de motocycles",
          "C. Industrie Manufacturière",
          "C. Industrie Manufacturière",
          "O. Administration publique",
          "C. Industrie Manufacturière",
          "O. Administration publique",
          "O. Administration publique",
          "G. Commerce; réparation d'automobiles et de motocycles",
          "C. Industrie Manufacturière",
          "C. Industrie Manufacturière",
          "M. Activités spécialisées, scientifiques et techniques",
          "N. Activités de services de services administratifs et de soutien",
          "Q. Santé humaine et action sociale",
          "G. Commerce; réparation d'automobiles et de motocycles",
          "M. Activités spécialisées, scientifiques et techniques",
          "K. Activité financières et d'assurance",
          "M. Activités spécialisées, scientifiques et techniques",
          "N. Activités de services de services administratifs et de soutien",
          "G. Commerce; réparation d'automobiles et de motocycles",
          "G. Commerce; réparation d'automobiles et de motocycles",
          "G. Commerce; réparation d'automobiles et de motocycles",
          "G. Commerce; réparation d'automobiles et de motocycles",
          "C. Industrie Manufacturière",
          "C. Industrie Manufacturière",
          "O. Administration publique",
          "F. Construction",
          "J. Information et communication",
          "F. Construction",
          "G. Commerce; réparation d'automobiles et de motocycles",
          "N. Activités de services de services administratifs et de soutien",
          "I. Hébergement et restauration",
          "G. Commerce; réparation d'automobiles et de motocycles",
          "I. Hébergement et restauration",
          "K. Activité financières et d'assurance",
          "C. Industrie Manufacturière",
          "H. Transport et entreposage",
          "J. Information et communication",
          "K. Activité financières et d'assurance",
          "F. Construction",
          "K. Activité financières et d'assurance",
          "G. Commerce; réparation d'automobiles et de motocycles",
          "C. Industrie Manufacturière",
          "H. Transport et entreposage",
          "Q. Santé humaine et action sociale",
          "F. Construction",
          "K. Activité financières et d'assurance",
          "Q. Santé humaine et action sociale",
          "K. Activité financières et d'assurance",
          "G. Commerce; réparation d'automobiles et de motocycles",
          "C. Industrie Manufacturière",
          "C. Industrie Manufacturière",
          "M. Activités spécialisées, scientifiques et techniques",
          "I. Hébergement et restauration",
          "G. Commerce; réparation d'automobiles et de motocycles",
          "C. Industrie Manufacturière",
          "F. Construction",
          "K. Activité financières et d'assurance",
          "C. Industrie Manufacturière",
          "O. Administration publique",
          "N. Activités de services de services administratifs et de soutien",
          "F. Construction",
          "K. Activité financières et d'assurance",
          "G. Commerce; réparation d'automobiles et de motocycles",
          "H. Transport et entreposage",
          "H. Transport et entreposage",
          "J. Information et communication",
          "C. Industrie Manufacturière",
          "M. Activités spécialisées, scientifiques et techniques",
          "G. Commerce; réparation d'automobiles et de motocycles",
          "J. Information et communication",
          "K. Activité financières et d'assurance",
          "K. Activité financières et d'assurance",
          "G. Commerce; réparation d'automobiles et de motocycles",
          "I. Hébergement et restauration",
          "G. Commerce; réparation d'automobiles et de motocycles",
          "C. Industrie Manufacturière",
          "O. Administration publique",
          "C. Industrie Manufacturière",
          "Q. Santé humaine et action sociale",
          "M. Activités spécialisées, scientifiques et techniques",
          "C. Industrie Manufacturière",
          "M. Activités spécialisées, scientifiques et techniques",
          "H. Transport et entreposage",
          "D. Production et distribution d'électricité, de gaz, de vapeur et d'air conditionné",
          "C. Industrie Manufacturière",
          "G. Commerce; réparation d'automobiles et de motocycles",
          "C. Industrie Manufacturière",
          "K. Activité financières et d'assurance",
          "Q. Santé humaine et action sociale",
          "C. Industrie Manufacturière",
          "N. Activités de services de services administratifs et de soutien",
          "G. Commerce; réparation d'automobiles et de motocycles",
          "K. Activité financières et d'assurance",
          "C. Industrie Manufacturière",
          "M. Activités spécialisées, scientifiques et techniques",
          "C. Industrie Manufacturière",
          "F. Construction",
          "F. Construction",
          "I. Hébergement et restauration",
          "O. Administration publique",
          "C. Industrie Manufacturière",
          "H. Transport et entreposage",
          "I. Hébergement et restauration",
          "H. Transport et entreposage",
          "G. Commerce; réparation d'automobiles et de motocycles",
          "E. Production et distribution d'eau; assainissement, gestion des déchets et dépollution",
          "C. Industrie Manufacturière",
          "L. Activités immobilières",
          "C. Industrie Manufacturière",
          "O. Administration publique",
          "C. Industrie Manufacturière",
          "G. Commerce; réparation d'automobiles et de motocycles",
          "O. Administration publique",
          "G. Commerce; réparation d'automobiles et de motocycles",
          "C. Industrie Manufacturière",
          "H. Transport et entreposage",
          "G. Commerce; réparation d'automobiles et de motocycles",
          "J. Information et communication",
          "C. Industrie Manufacturière",
          "E. Production et distribution d'eau; assainissement, gestion des déchets et dépollution",
          "H. Transport et entreposage",
          "J. Information et communication",
          "H. Transport et entreposage",
          "C. Industrie Manufacturière",
          "S. Autres activités de service",
          "C. Industrie Manufacturière",
          "C. Industrie Manufacturière",
          "C. Industrie Manufacturière",
          "C. Industrie Manufacturière",
          "D. Production et distribution d'électricité, de gaz, de vapeur et d'air conditionné",
          "M. Activités spécialisées, scientifiques et techniques",
          "G. Commerce; réparation d'automobiles et de motocycles",
          "J. Information et communication",
          "C. Industrie Manufacturière",
          "N. Activités de services de services administratifs et de soutien",
          "C. Industrie Manufacturière",
          "R. Art, spectacles et activités récréatives",
          "C. Industrie Manufacturière",
          "C. Industrie Manufacturière",
          "M. Activités spécialisées, scientifiques et techniques",
          "C. Industrie Manufacturière",
          "M. Activités spécialisées, scientifiques et techniques",
          "C. Industrie Manufacturière",
          "N. Activités de services de services administratifs et de soutien",
          "O. Administration publique",
          "Q. Santé humaine et action sociale",
          "C. Industrie Manufacturière",
          "F. Construction",
          "K. Activité financières et d'assurance",
          "F. Construction",
          "G. Commerce; réparation d'automobiles et de motocycles",
          "N. Activités de services de services administratifs et de soutien",
          "F. Construction",
          "C. Industrie Manufacturière",
          "G. Commerce; réparation d'automobiles et de motocycles",
          "F. Construction",
          "M. Activités spécialisées, scientifiques et techniques",
          "Q. Santé humaine et action sociale",
          "J. Information et communication",
          "L. Activités immobilières",
          "G. Commerce; réparation d'automobiles et de motocycles",
          "G. Commerce; réparation d'automobiles et de motocycles",
          "F. Construction",
          "I. Hébergement et restauration",
          "C. Industrie Manufacturière",
          "C. Industrie Manufacturière",
          "E. Production et distribution d'eau; assainissement, gestion des déchets et dépollution",
          "G. Commerce; réparation d'automobiles et de motocycles",
          "M. Activités spécialisées, scientifiques et techniques",
          "C. Industrie Manufacturière",
          "K. Activité financières et d'assurance",
          "C. Industrie Manufacturière",
          "G. Commerce; réparation d'automobiles et de motocycles",
          "C. Industrie Manufacturière",
          "O. Administration publique",
          "H. Transport et entreposage",
          "C. Industrie Manufacturière",
          "M. Activités spécialisées, scientifiques et techniques",
          "S. Autres activités de service",
          "C. Industrie Manufacturière",
          "C. Industrie Manufacturière",
          "O. Administration publique",
          "Q. Santé humaine et action sociale",
          "M. Activités spécialisées, scientifiques et techniques",
          "I. Hébergement et restauration",
          "J. Information et communication",
          "H. Transport et entreposage",
          "C. Industrie Manufacturière",
          "K. Activité financières et d'assurance",
          "F. Construction",
          "C. Industrie Manufacturière",
          "K. Activité financières et d'assurance",
          "M. Activités spécialisées, scientifiques et techniques",
          "K. Activité financières et d'assurance",
          "G. Commerce; réparation d'automobiles et de motocycles",
          "J. Information et communication",
          "G. Commerce; réparation d'automobiles et de motocycles",
          "H. Transport et entreposage",
          "O. Administration publique",
          "H. Transport et entreposage",
          "G. Commerce; réparation d'automobiles et de motocycles",
          "C. Industrie Manufacturière",
          "I. Hébergement et restauration",
          "C. Industrie Manufacturière",
          "C. Industrie Manufacturière",
          "N. Activités de services de services administratifs et de soutien",
          "O. Administration publique",
          "Q. Santé humaine et action sociale",
          "K. Activité financières et d'assurance",
          "M. Activités spécialisées, scientifiques et techniques",
          "C. Industrie Manufacturière",
          "M. Activités spécialisées, scientifiques et techniques",
          "H. Transport et entreposage",
          "O. Administration publique",
          "C. Industrie Manufacturière",
          "H. Transport et entreposage",
          "C. Industrie Manufacturière",
          "G. Commerce; réparation d'automobiles et de motocycles",
          "O. Administration publique",
          "N. Activités de services de services administratifs et de soutien",
          "C. Industrie Manufacturière",
          "C. Industrie Manufacturière",
          "C. Industrie Manufacturière",
          "C. Industrie Manufacturière",
          "O. Administration publique",
          "K. Activité financières et d'assurance",
          "C. Industrie Manufacturière",
          "N. Activités de services de services administratifs et de soutien",
          "G. Commerce; réparation d'automobiles et de motocycles",
          "O. Administration publique",
          "E. Production et distribution d'eau; assainissement, gestion des déchets et dépollution",
          "H. Transport et entreposage",
          "C. Industrie Manufacturière",
          "D. Production et distribution d'électricité, de gaz, de vapeur et d'air conditionné",
          "C. Industrie Manufacturière",
          "O. Administration publique",
          "M. Activités spécialisées, scientifiques et techniques",
          "H. Transport et entreposage",
          "C. Industrie Manufacturière",
          "C. Industrie Manufacturière",
          "C. Industrie Manufacturière",
          "O. Administration publique",
          "C. Industrie Manufacturière",
          "C. Industrie Manufacturière",
          "M. Activités spécialisées, scientifiques et techniques",
          "F. Construction",
          "N. Activités de services de services administratifs et de soutien",
          "O. Administration publique",
          "C. Industrie Manufacturière",
          "J. Information et communication",
          "M. Activités spécialisées, scientifiques et techniques",
          "C. Industrie Manufacturière",
          "G. Commerce; réparation d'automobiles et de motocycles",
          "M. Activités spécialisées, scientifiques et techniques",
          "G. Commerce; réparation d'automobiles et de motocycles",
          "S. Autres activités de service",
          "G. Commerce; réparation d'automobiles et de motocycles",
          "C. Industrie Manufacturière",
          "C. Industrie Manufacturière",
          "F. Construction",
          "M. Activités spécialisées, scientifiques et techniques",
          "G. Commerce; réparation d'automobiles et de motocycles",
          "N. Activités de services de services administratifs et de soutien",
          "H. Transport et entreposage",
          "N. Activités de services de services administratifs et de soutien",
          "N. Activités de services de services administratifs et de soutien",
          "F. Construction",
          "C. Industrie Manufacturière",
          "K. Activité financières et d'assurance",
          "G. Commerce; réparation d'automobiles et de motocycles",
          "N. Activités de services de services administratifs et de soutien",
          "H. Transport et entreposage",
          "C. Industrie Manufacturière",
          "F. Construction",
          "K. Activité financières et d'assurance",
          "C. Industrie Manufacturière",
          "F. Construction",
          "M. Activités spécialisées, scientifiques et techniques",
          "O. Administration publique",
          "M. Activités spécialisées, scientifiques et techniques",
          "C. Industrie Manufacturière",
          "F. Construction",
          "G. Commerce; réparation d'automobiles et de motocycles",
          "M. Activités spécialisées, scientifiques et techniques",
          "C. Industrie Manufacturière",
          "Q. Santé humaine et action sociale",
          "J. Information et communication",
          "M. Activités spécialisées, scientifiques et techniques",
          "N. Activités de services de services administratifs et de soutien",
          "S. Autres activités de service",
          "G. Commerce; réparation d'automobiles et de motocycles",
          "G. Commerce; réparation d'automobiles et de motocycles",
          "C. Industrie Manufacturière",
          "J. Information et communication",
          "L. Activités immobilières",
          "J. Information et communication",
          "J. Information et communication",
          "M. Activités spécialisées, scientifiques et techniques",
          "K. Activité financières et d'assurance",
          "H. Transport et entreposage",
          "C. Industrie Manufacturière",
          "K. Activité financières et d'assurance",
          "C. Industrie Manufacturière",
          "Q. Santé humaine et action sociale",
          "M. Activités spécialisées, scientifiques et techniques",
          "P. Enseignement",
          "C. Industrie Manufacturière",
          "C. Industrie Manufacturière",
          "E. Production et distribution d'eau; assainissement, gestion des déchets et dépollution",
          "C. Industrie Manufacturière",
          "G. Commerce; réparation d'automobiles et de motocycles",
          "N. Activités de services de services administratifs et de soutien",
          "C. Industrie Manufacturière",
          "G. Commerce; réparation d'automobiles et de motocycles",
          "G. Commerce; réparation d'automobiles et de motocycles",
          "C. Industrie Manufacturière",
          "C. Industrie Manufacturière",
          "G. Commerce; réparation d'automobiles et de motocycles",
          "H. Transport et entreposage",
          "N. Activités de services de services administratifs et de soutien",
          "H. Transport et entreposage",
          "K. Activité financières et d'assurance",
          "K. Activité financières et d'assurance",
          "J. Information et communication",
          "K. Activité financières et d'assurance",
          "F. Construction",
          "F. Construction",
          "M. Activités spécialisées, scientifiques et techniques",
          "K. Activité financières et d'assurance",
          "K. Activité financières et d'assurance",
          "H. Transport et entreposage",
          "N. Activités de services de services administratifs et de soutien",
          "E. Production et distribution d'eau; assainissement, gestion des déchets et dépollution",
          "O. Administration publique",
          "K. Activité financières et d'assurance",
          "G. Commerce; réparation d'automobiles et de motocycles",
          "K. Activité financières et d'assurance",
          "J. Information et communication",
          "M. Activités spécialisées, scientifiques et techniques",
          "H. Transport et entreposage",
          "Q. Santé humaine et action sociale",
          "C. Industrie Manufacturière",
          "G. Commerce; réparation d'automobiles et de motocycles",
          "F. Construction",
          "K. Activité financières et d'assurance",
          "D. Production et distribution d'électricité, de gaz, de vapeur et d'air conditionné",
          "H. Transport et entreposage",
          "C. Industrie Manufacturière",
          "G. Commerce; réparation d'automobiles et de motocycles",
          "C. Industrie Manufacturière",
          "G. Commerce; réparation d'automobiles et de motocycles",
          "J. Information et communication",
          "N. Activités de services de services administratifs et de soutien",
          "C. Industrie Manufacturière",
          "Q. Santé humaine et action sociale",
          "J. Information et communication",
          "L. Activités immobilières",
          "K. Activité financières et d'assurance",
          "H. Transport et entreposage",
          "C. Industrie Manufacturière",
          "H. Transport et entreposage",
          "L. Activités immobilières",
          "D. Production et distribution d'électricité, de gaz, de vapeur et d'air conditionné",
          "O. Administration publique",
          "C. Industrie Manufacturière",
          "J. Information et communication",
          "J. Information et communication",
          "M. Activités spécialisées, scientifiques et techniques",
          "O. Administration publique",
          "M. Activités spécialisées, scientifiques et techniques",
          "C. Industrie Manufacturière",
          "C. Industrie Manufacturière",
          "K. Activité financières et d'assurance",
          "K. Activité financières et d'assurance",
          "C. Industrie Manufacturière",
          "C. Industrie Manufacturière",
          "C. Industrie Manufacturière",
          "S. Autres activités de service",
          "C. Industrie Manufacturière",
          "C. Industrie Manufacturière",
          "G. Commerce; réparation d'automobiles et de motocycles",
          "C. Industrie Manufacturière",
          "G. Commerce; réparation d'automobiles et de motocycles",
          "C. Industrie Manufacturière",
          "C. Industrie Manufacturière",
          "G. Commerce; réparation d'automobiles et de motocycles",
          "Q. Santé humaine et action sociale",
          "S. Autres activités de service",
          "J. Information et communication",
          "E. Production et distribution d'eau; assainissement, gestion des déchets et dépollution",
          "C. Industrie Manufacturière",
          "F. Construction",
          "J. Information et communication",
          "O. Administration publique",
          "H. Transport et entreposage",
          "C. Industrie Manufacturière",
          "C. Industrie Manufacturière",
          "J. Information et communication",
          "N. Activités de services de services administratifs et de soutien",
          "N. Activités de services de services administratifs et de soutien",
          "G. Commerce; réparation d'automobiles et de motocycles",
          "C. Industrie Manufacturière",
          "C. Industrie Manufacturière",
          "C. Industrie Manufacturière",
          "C. Industrie Manufacturière",
          "C. Industrie Manufacturière",
          "O. Administration publique",
          "J. Information et communication",
          "G. Commerce; réparation d'automobiles et de motocycles",
          "K. Activité financières et d'assurance",
          "G. Commerce; réparation d'automobiles et de motocycles",
          "H. Transport et entreposage",
          "C. Industrie Manufacturière",
          "K. Activité financières et d'assurance",
          "J. Information et communication",
          "M. Activités spécialisées, scientifiques et techniques",
          "O. Administration publique",
          "C. Industrie Manufacturière",
          "G. Commerce; réparation d'automobiles et de motocycles",
          "N. Activités de services de services administratifs et de soutien",
          "K. Activité financières et d'assurance",
          "F. Construction",
          "M. Activités spécialisées, scientifiques et techniques",
          "F. Construction",
          "G. Commerce; réparation d'automobiles et de motocycles",
          "G. Commerce; réparation d'automobiles et de motocycles",
          "M. Activités spécialisées, scientifiques et techniques",
          "M. Activités spécialisées, scientifiques et techniques",
          "G. Commerce; réparation d'automobiles et de motocycles",
          "G. Commerce; réparation d'automobiles et de motocycles",
          "M. Activités spécialisées, scientifiques et techniques",
          "N. Activités de services de services administratifs et de soutien",
          "C. Industrie Manufacturière",
          "K. Activité financières et d'assurance",
          "N. Activités de services de services administratifs et de soutien",
          "O. Administration publique",
          "K. Activité financières et d'assurance",
          "N. Activités de services de services administratifs et de soutien",
          "C. Industrie Manufacturière",
          "N. Activités de services de services administratifs et de soutien",
          "F. Construction",
          "C. Industrie Manufacturière",
          "G. Commerce; réparation d'automobiles et de motocycles",
          "K. Activité financières et d'assurance",
          "C. Industrie Manufacturière",
          "M. Activités spécialisées, scientifiques et techniques",
          "H. Transport et entreposage",
          "N. Activités de services de services administratifs et de soutien",
          "C. Industrie Manufacturière",
          "K. Activité financières et d'assurance",
          "C. Industrie Manufacturière",
          "C. Industrie Manufacturière",
          "N. Activités de services de services administratifs et de soutien",
          "M. Activités spécialisées, scientifiques et techniques",
          "N. Activités de services de services administratifs et de soutien",
          "K. Activité financières et d'assurance",
          "E. Production et distribution d'eau; assainissement, gestion des déchets et dépollution",
          "N. Activités de services de services administratifs et de soutien",
          "F. Construction",
          "C. Industrie Manufacturière",
          "C. Industrie Manufacturière",
          "K. Activité financières et d'assurance",
          "H. Transport et entreposage",
          "C. Industrie Manufacturière",
          "K. Activité financières et d'assurance",
          "C. Industrie Manufacturière",
          "C. Industrie Manufacturière",
          "G. Commerce; réparation d'automobiles et de motocycles",
          "C. Industrie Manufacturière",
          "H. Transport et entreposage",
          "K. Activité financières et d'assurance",
          "H. Transport et entreposage",
          "P. Enseignement",
          "K. Activité financières et d'assurance",
          "M. Activités spécialisées, scientifiques et techniques",
          "M. Activités spécialisées, scientifiques et techniques",
          "K. Activité financières et d'assurance",
          "C. Industrie Manufacturière",
          "G. Commerce; réparation d'automobiles et de motocycles",
          "H. Transport et entreposage",
          "C. Industrie Manufacturière",
          "C. Industrie Manufacturière",
          "C. Industrie Manufacturière",
          "E. Production et distribution d'eau; assainissement, gestion des déchets et dépollution",
          "K. Activité financières et d'assurance",
          "O. Administration publique",
          "O. Administration publique",
          "C. Industrie Manufacturière",
          "G. Commerce; réparation d'automobiles et de motocycles",
          "C. Industrie Manufacturière",
          "Q. Santé humaine et action sociale",
          "M. Activités spécialisées, scientifiques et techniques",
          "C. Industrie Manufacturière",
          "C. Industrie Manufacturière",
          "E. Production et distribution d'eau; assainissement, gestion des déchets et dépollution",
          "K. Activité financières et d'assurance",
          "M. Activités spécialisées, scientifiques et techniques",
          "O. Administration publique",
          "G. Commerce; réparation d'automobiles et de motocycles",
          "M. Activités spécialisées, scientifiques et techniques",
          "C. Industrie Manufacturière",
          "N. Activités de services de services administratifs et de soutien",
          "G. Commerce; réparation d'automobiles et de motocycles",
          "C. Industrie Manufacturière",
          "F. Construction",
          "M. Activités spécialisées, scientifiques et techniques",
          "C. Industrie Manufacturière",
          "Q. Santé humaine et action sociale",
          "G. Commerce; réparation d'automobiles et de motocycles",
          "G. Commerce; réparation d'automobiles et de motocycles",
          "G. Commerce; réparation d'automobiles et de motocycles",
          "K. Activité financières et d'assurance",
          "C. Industrie Manufacturière",
          "M. Activités spécialisées, scientifiques et techniques",
          "K. Activité financières et d'assurance",
          "C. Industrie Manufacturière",
          "C. Industrie Manufacturière",
          "M. Activités spécialisées, scientifiques et techniques",
          "J. Information et communication",
          "F. Construction",
          "I. Hébergement et restauration",
          "G. Commerce; réparation d'automobiles et de motocycles",
          "C. Industrie Manufacturière",
          "M. Activités spécialisées, scientifiques et techniques",
          "C. Industrie Manufacturière",
          "M. Activités spécialisées, scientifiques et techniques",
          "K. Activité financières et d'assurance",
          "K. Activité financières et d'assurance",
          "M. Activités spécialisées, scientifiques et techniques",
          "M. Activités spécialisées, scientifiques et techniques",
          "C. Industrie Manufacturière",
          "C. Industrie Manufacturière",
          "C. Industrie Manufacturière",
          "D. Production et distribution d'électricité, de gaz, de vapeur et d'air conditionné",
          "C. Industrie Manufacturière",
          "F. Construction",
          "C. Industrie Manufacturière",
          "L. Activités immobilières",
          "O. Administration publique",
          "H. Transport et entreposage",
          "C. Industrie Manufacturière",
          "C. Industrie Manufacturière",
          "O. Administration publique",
          "K. Activité financières et d'assurance",
          "G. Commerce; réparation d'automobiles et de motocycles",
          "N. Activités de services de services administratifs et de soutien",
          "C. Industrie Manufacturière",
          "O. Administration publique",
          "C. Industrie Manufacturière",
          "C. Industrie Manufacturière",
          "A. Agriculture, sylviculture et pêche",
          "J. Information et communication",
          "E. Production et distribution d'eau; assainissement, gestion des déchets et dépollution",
          "O. Administration publique",
          "M. Activités spécialisées, scientifiques et techniques",
          "G. Commerce; réparation d'automobiles et de motocycles",
          "M. Activités spécialisées, scientifiques et techniques",
          "C. Industrie Manufacturière",
          "R. Art, spectacles et activités récréatives",
          "C. Industrie Manufacturière",
          "K. Activité financières et d'assurance",
          "E. Production et distribution d'eau; assainissement, gestion des déchets et dépollution",
          "I. Hébergement et restauration",
          "C. Industrie Manufacturière",
          "C. Industrie Manufacturière",
          "F. Construction",
          "K. Activité financières et d'assurance",
          "C. Industrie Manufacturière",
          "I. Hébergement et restauration",
          "G. Commerce; réparation d'automobiles et de motocycles",
          "K. Activité financières et d'assurance",
          "C. Industrie Manufacturière",
          "C. Industrie Manufacturière",
          "J. Information et communication",
          "E. Production et distribution d'eau; assainissement, gestion des déchets et dépollution",
          "K. Activité financières et d'assurance",
          "K. Activité financières et d'assurance",
          "G. Commerce; réparation d'automobiles et de motocycles",
          "N. Activités de services de services administratifs et de soutien",
          "M. Activités spécialisées, scientifiques et techniques",
          "C. Industrie Manufacturière",
          "G. Commerce; réparation d'automobiles et de motocycles",
          "C. Industrie Manufacturière",
          "M. Activités spécialisées, scientifiques et techniques",
          "C. Industrie Manufacturière",
          "E. Production et distribution d'eau; assainissement, gestion des déchets et dépollution",
          "G. Commerce; réparation d'automobiles et de motocycles",
          "G. Commerce; réparation d'automobiles et de motocycles",
          "D. Production et distribution d'électricité, de gaz, de vapeur et d'air conditionné",
          "G. Commerce; réparation d'automobiles et de motocycles",
          "K. Activité financières et d'assurance",
          "C. Industrie Manufacturière",
          "C. Industrie Manufacturière",
          "F. Construction",
          "G. Commerce; réparation d'automobiles et de motocycles",
          "C. Industrie Manufacturière",
          "G. Commerce; réparation d'automobiles et de motocycles",
          "L. Activités immobilières",
          "N. Activités de services de services administratifs et de soutien",
          "Q. Santé humaine et action sociale",
          "J. Information et communication",
          "J. Information et communication",
          "C. Industrie Manufacturière",
          "H. Transport et entreposage",
          "C. Industrie Manufacturière",
          "D. Production et distribution d'électricité, de gaz, de vapeur et d'air conditionné",
          "A. Agriculture, sylviculture et pêche",
          "M. Activités spécialisées, scientifiques et techniques",
          "C. Industrie Manufacturière",
          "N. Activités de services de services administratifs et de soutien",
          "Q. Santé humaine et action sociale",
          "C. Industrie Manufacturière",
          "G. Commerce; réparation d'automobiles et de motocycles",
          "C. Industrie Manufacturière",
          "G. Commerce; réparation d'automobiles et de motocycles",
          "C. Industrie Manufacturière",
          "S. Autres activités de service",
          "C. Industrie Manufacturière",
          "N. Activités de services de services administratifs et de soutien",
          "C. Industrie Manufacturière",
          "G. Commerce; réparation d'automobiles et de motocycles",
          "C. Industrie Manufacturière",
          "F. Construction",
          "C. Industrie Manufacturière",
          "O. Administration publique",
          "C. Industrie Manufacturière",
          "C. Industrie Manufacturière",
          "O. Administration publique",
          "M. Activités spécialisées, scientifiques et techniques",
          "O. Administration publique",
          "C. Industrie Manufacturière",
          "C. Industrie Manufacturière",
          "C. Industrie Manufacturière",
          "Q. Santé humaine et action sociale",
          "L. Activités immobilières",
          "G. Commerce; réparation d'automobiles et de motocycles",
          "C. Industrie Manufacturière",
          "O. Administration publique",
          "C. Industrie Manufacturière",
          "C. Industrie Manufacturière",
          "C. Industrie Manufacturière",
          "F. Construction",
          "G. Commerce; réparation d'automobiles et de motocycles",
          "C. Industrie Manufacturière",
          "J. Information et communication",
          "G. Commerce; réparation d'automobiles et de motocycles",
          "C. Industrie Manufacturière",
          "M. Activités spécialisées, scientifiques et techniques",
          "C. Industrie Manufacturière",
          "H. Transport et entreposage",
          "K. Activité financières et d'assurance",
          "O. Administration publique"
         ],
         "x0": " ",
         "xaxis": "x",
         "y": [
          126374.3,
          3892.307692307692,
          1938.461538461538,
          100,
          24783.33333333334,
          8492,
          46506.76923076923,
          971720.8333333334,
          5233.333333333333,
          11802.91666666667,
          6399.999999999995,
          25394.45833333334,
          37884.61538461538,
          9185.416666666668,
          null,
          28376114,
          733670.8333333334,
          24312.5,
          579.7692307692307,
          8484.615384615383,
          1127.416666666667,
          44833,
          null,
          57583.84615384616,
          47577.6923076923,
          48730.92307692308,
          65817.6923076923,
          62907.30769230768,
          null,
          null,
          38436.15384615384,
          null,
          39148.53846153845,
          38933.23076923077,
          2468,
          4916.666666666667,
          29646.75,
          676639.9999999994,
          1029.461538461538,
          2155.307692307692,
          null,
          null,
          8653.846153846152,
          130329.9999999999,
          73479.99999999994,
          null,
          4259.999999999996,
          null,
          7150.000000000001,
          87169.23076923077,
          59539.99999999995,
          null,
          1855.555555555555,
          21916.66666666667,
          null,
          39453.84615384615,
          3751666.666666667,
          113.1538461538461,
          738.0769230769231,
          293.6153846153846,
          null,
          6523.076923076923,
          null,
          372.8666666666667,
          null,
          null,
          6896.862068965517,
          7485.36,
          null,
          13210.19999999999,
          1755819.999999998,
          null,
          19475,
          null,
          462723.0769230769,
          47183.33333333334,
          638.4615384615385,
          1672.4,
          23137.16666666666,
          42479.99999999996,
          33108.33333333334,
          201584.6153846154,
          69553.84615384616,
          3972,
          14700,
          8570.833333333334,
          4065.416666666667,
          32116.66666666667,
          20100,
          14626,
          81430.91666666666,
          33179.99999999997,
          null,
          null,
          null,
          3842.538461538461,
          3668.965517241379,
          11012.5,
          36262.5,
          58861.53846153845,
          null,
          17737.5,
          null,
          5789641.666666667,
          50320.83333333334,
          3920,
          29725239.99999997,
          null,
          1070,
          103141.6666666667,
          50833.33333333334,
          28,
          48300,
          321079.9999999997,
          null,
          1504,
          1975,
          2088.461538461538,
          1460,
          57384.61538461538,
          1466,
          45184,
          28499.99999999997,
          null,
          53815.38461538461,
          4372,
          18607.6923076923,
          3666.666666666667,
          null,
          3880.769230769231,
          11853.84615384615,
          3053.846153846153,
          4423.076923076923,
          7215.384615384614,
          1548,
          17916.66666666667,
          2925.32,
          16779.16666666667,
          3040356.666666667,
          199001.6,
          110276.5999999999,
          429.9230769230768,
          11818,
          238974.4666666666,
          276600,
          null,
          352760,
          16525,
          32111.42857142859,
          1228.571428571429,
          9687.230769230768,
          null,
          null,
          79015.38461538461,
          null,
          34983.33333333334,
          1020623.399999999,
          217583.3333333333,
          15030.24,
          20986.12,
          34832.25,
          35361.53846153845,
          null,
          null,
          17823.07692307692,
          136631.9230769231,
          null,
          167440.4166666667,
          10726.66666666667,
          18257.14285714287,
          28571.42857142859,
          16985.7142857143,
          33779.99999999997,
          325659.9999999997,
          195138,
          211698,
          null,
          null,
          16627.19999999999,
          232941.6666666667,
          51307.6923076923,
          null,
          72366.92307692308,
          6095.000000000001,
          435379.1666666667,
          9754.583333333334,
          13485.875,
          616794.5833333335,
          null,
          9104.625000000002,
          null,
          862.9166666666667,
          829856.6666666666,
          7366.461538461538,
          1659.2,
          2196.2,
          7117.34,
          14168,
          null,
          23246.15384615384,
          11380,
          11822.16666666667,
          112741.6666666667,
          19837.08333333334,
          20608.33333333334,
          28686985,
          156161.8333333333,
          139467.5833333333,
          12687.5,
          346495.8333333334,
          5584.615384615384,
          4394,
          45904.16666666667,
          null,
          5204.166666666667,
          null,
          null,
          6364.02,
          7254,
          null,
          7446.666666666666,
          6048229.166666667,
          null,
          3123550,
          30239.99999999997,
          null,
          null,
          21984.61538461538,
          45366.66666666666,
          12561.53846153846,
          2027099.999999998,
          5422,
          49849.99999999999,
          null,
          47013.25000000001,
          null,
          33891.66666666667,
          20329.04,
          15531.03448275862,
          null,
          2531.966666666666,
          7010,
          2766.7,
          6876.059999999999,
          null,
          null,
          8154.040000000001,
          2779.34,
          null,
          null,
          13444.91666666667,
          30984.86,
          33053.42,
          31908.3,
          42771.46,
          38101.56,
          171015.0416666667,
          14670.83333333333,
          16325.7142857143,
          718010,
          2495.833333333333,
          51170885.00000001,
          null,
          84546.15384615384,
          2031.8,
          15281.58620689655,
          7363.846153846153,
          8473.461538461537,
          19870.83333333334,
          15608.33333333333,
          null,
          null,
          9559.633333333331,
          null,
          972.64,
          34769.34,
          null,
          323.2068965517241,
          0,
          30931.95833333334,
          131880.5999999999,
          13732,
          293419.9999999998,
          38252,
          4446,
          4815229.399999999,
          23366.15384615384,
          6449.166666666667,
          76819.16666666666,
          null,
          44665.83333333333,
          5393.333333333333,
          34542.85714285717,
          14724.4,
          6126.666666666666,
          48479.16666666667,
          7932.4,
          null,
          7895.833333333334,
          131292.3076923077,
          37695.83333333334,
          51295,
          12532,
          null,
          null,
          5834.482758620689,
          11529.16666666667,
          226505.9999999998,
          602091.6666666667,
          32101.4,
          47683.33333333334,
          5700,
          null,
          26566.66666666667,
          18575.48275862069,
          15541.25,
          35617.30769230769,
          221626.3999999998,
          168041.6666666667,
          null,
          null,
          null,
          null,
          31.25,
          5366.666666666667,
          432020.6896551724,
          196762.5,
          507.6923076923076,
          57110,
          111623.66,
          110739.9999999999,
          7350.000000000001,
          1416,
          null,
          null,
          null,
          283063.7999999998,
          310379.9999999997,
          9743.875000000002,
          6079.999999999995,
          14531.46666666667,
          31866.79310344827,
          108970.8333333333,
          13316.25,
          2333.333333333333,
          14510.34482758621,
          31269.28571428573,
          737.5,
          null,
          null,
          6189.999999999995,
          107977.9999999999,
          118010.8333333333,
          328246.6666666666,
          3662.5,
          4508,
          3092,
          8953.4,
          4924,
          3308,
          null,
          93420,
          19526.57142857144,
          null,
          88237.79999999993,
          48810.79999999996,
          2446.666666666667,
          19314.07692307692,
          8752.23076923077,
          9784.615384615383,
          null,
          5502,
          333636.0416666667,
          10104.16666666667,
          2569.230769230769,
          25775,
          null,
          11639.58333333333,
          null,
          null,
          168779.9999999999,
          null,
          49382.91666666667,
          1741.666666666667,
          3827.692307692308,
          null,
          31560,
          null,
          11391.66666666667,
          22473.1,
          null,
          16507.6923076923,
          2789.615384615384,
          33141.66666666667,
          1036.533333333333,
          361283.3333333334,
          null,
          null,
          1564,
          30962.76923076923,
          16900,
          685.6333333333332,
          58712.50000000001,
          null,
          2064.8,
          29791.66666666667,
          14658.62068965517,
          560,
          107504.1666666667,
          72595.83333333334,
          239.8333333333334,
          4507.692307692307,
          44346.15384615384,
          null,
          12060,
          2920,
          null,
          87083.33333333334,
          22317733.33333334,
          1689.733333333333,
          29662.06896551724,
          98344,
          1508.25,
          1772.75,
          213807.6923076923,
          null,
          4901.416666666667,
          null,
          12223.84615384615,
          620723.3333333333,
          67715.38461538461,
          13840,
          4221.875,
          166766.6666666667,
          144800,
          1492.92,
          1413.199999999999,
          4769.083333333334,
          54300.00000000001,
          18401.84,
          null,
          null,
          4887.5,
          782979.1666666667,
          null,
          null,
          46289.65517241379,
          635.0769230769231,
          null,
          31608.33333333334,
          541783.3333333334,
          2356.4,
          null,
          9804.166666666668,
          null,
          null,
          null,
          60536.5,
          null,
          427541.6666666667,
          726.9583333333334,
          1051.208333333333,
          616.5416666666667,
          945.5833333333335,
          11058.96551724138,
          5217.999999999995,
          null,
          10995.83333333333,
          156594.7999999998,
          65403.08333333334,
          676901.25,
          3258.333333333333,
          9702,
          null,
          null,
          4953.888888888888,
          4356,
          13340,
          null,
          24970.83333333334,
          37892.30769230769,
          9045.833333333334,
          49825,
          12351.83333333334,
          1536,
          null,
          null,
          6344.999999999999,
          null,
          null,
          3704.033333333333,
          2370,
          null,
          202575,
          55561.30769230769,
          67126.66666666666,
          null,
          57999.99999999995,
          37118.70833333334,
          6000,
          10100,
          null,
          null,
          36335.16666666667,
          75633.33333333333,
          12590,
          105304.1666666667,
          22320.83333333334,
          54375.00000000001,
          null,
          7308.333333333334,
          18726.11111111111,
          153153.8461538461,
          7723.076923076922,
          5633.333333333334,
          157492.3076923077,
          2183108.333333333,
          3124,
          null,
          877651.5384615383,
          402377,
          23759.99999999998,
          14899.99999999999,
          17398.73333333333,
          45107.90000000001,
          null,
          26695.83333333334,
          34716.66666666666,
          null,
          3784,
          20569.23076923077,
          69015.38461538461,
          1200,
          10023.59999999999,
          null,
          55993.33333333333,
          6672.291666666666,
          104333.3333333333,
          28233.33333333334,
          15087.38461538461,
          9745.833333333334,
          null,
          null,
          353657.8750000001,
          4924.041666666667,
          24770.83333333334,
          null,
          29428,
          7438,
          4597700,
          null,
          25085.7142857143,
          26942.85714285716,
          null,
          132720.8333333333,
          null,
          529992.3076923076,
          77715.38461538461,
          null,
          232500.4166666667,
          63837.50000000001,
          28507.6923076923,
          5037.5,
          158470.8333333333,
          1905559.791666667,
          20576.92307692307,
          31975,
          42999.99999999996,
          35039.99999999997,
          null,
          14543.66666666667,
          9015.384615384613,
          89187.77777777777,
          null,
          null,
          115915.3846153846,
          980975.0000000001,
          169179.6666666667,
          78274,
          14183.33333333333,
          3904283.333333333,
          null,
          46476.61538461538,
          5106199.999999995,
          50829.16666666667,
          11932.69230769231,
          1341.666666666667,
          470720.8333333334,
          1775,
          15833.33333333333,
          3248895.833333333,
          146682.7586206897,
          21229.65517241379,
          12035.42857142858,
          59284.61538461538,
          55504.16666666667,
          13937.70833333334,
          2475,
          711857.7999999995,
          15798.06,
          10533.33333333333,
          5625,
          1062.5,
          45254.16666666667,
          null,
          5187.5,
          56946.15384615384,
          86520.83333333334,
          3316,
          15335.95833333334,
          616.6923076923076,
          3505.84,
          86061.53846153845,
          4632,
          4853.846153846153,
          1719.999999999998,
          7525.78,
          96727.58620689655,
          42680.83333333334,
          195237.1538461538,
          null,
          153889.6551724138,
          2638.461538461538,
          25029.16666666667,
          2204.076923076923,
          52675.00000000001,
          6609.875,
          26804.15384615384,
          3293116.666666667,
          25669.23076923077,
          106620,
          null,
          771.8999999999999,
          5662.5,
          null,
          19180.41666666667,
          3259.999999999997,
          16183.33333333333,
          1215.384615384615,
          148879.9999999999,
          3399,
          4240.000000000001,
          180,
          25644,
          null,
          21399.99999999998,
          null,
          12270.83333333333,
          29775,
          11066.66666666667,
          9620.25,
          null,
          null,
          11083.33333333333,
          1820,
          101680,
          12833.04166666667,
          null,
          null,
          84583.33333333334,
          141883.3333333333,
          null,
          null,
          5290,
          4019,
          null,
          611491.6666666667,
          6788,
          142283.3333333333,
          1894,
          11133.33333333333,
          null,
          null,
          2369.958333333333,
          null,
          51741.66666666667,
          8244,
          232298.7999999998,
          183930,
          null,
          4026229.166666667,
          4719.777777777777,
          14516.66666666667,
          1482.777777777777,
          null,
          55808.33333333334,
          3239.999999999997,
          82815.38461538461,
          45158.33333333334,
          17292.30769230769,
          6608.461538461538,
          5278.333333333334,
          86837.5,
          12280.41379310345,
          116501.6666666667,
          43893.99999999996,
          39375,
          259406,
          3966.4,
          14178,
          null,
          null,
          375684.6153846154,
          null,
          329.9999999999999,
          null,
          248124.9230769231,
          12846.15384615385,
          38553.33333333333,
          402.3076923076923,
          null,
          null,
          8238.461538461539,
          10950.6,
          1283516.666666667,
          855837.5000000001,
          null,
          46293.84615384615,
          39637.5,
          2133.333333333333,
          48629.16666666667,
          21379.16666666667,
          null,
          49941.66666666667,
          2521.125,
          null,
          22320.83333333334,
          16468.04166666667,
          12745.83333333333,
          null,
          144598.75,
          7145.833333333334,
          200.94,
          29616.66666666666,
          50119.99999999996,
          853179.9999999994,
          42451.99999999996,
          39738661.66666666,
          169049.9999999999,
          142238.4615384615,
          27442,
          76720,
          94527.04000000001,
          100130,
          91541.8,
          1068736.666666667,
          57237.50000000001,
          152980.7692307692,
          257053.8461538461,
          19100,
          null,
          5292,
          null,
          null,
          3456,
          null,
          45632.54166666666,
          9508.333333333334,
          null,
          null,
          null,
          null,
          16975,
          410946.6666666666,
          5368.500000000001,
          20650,
          17110,
          72746.15384615384,
          23207.6923076923,
          8466.666666666668,
          18563.14,
          7307287.500000001,
          16298.31034482759,
          274783.3333333333,
          164449.3999999998,
          27054.61538461538,
          1097.692307692307,
          1519.384615384615,
          256.076923076923,
          null,
          37259.92307692307,
          null,
          36.2,
          null,
          50793.83333333334,
          1497,
          65.12000000000002,
          23,
          30,
          4877.615384615384,
          520.9600000000002,
          21.68,
          3560.68,
          106,
          35.02,
          103.1,
          null,
          7041,
          2813.999999999997,
          62.26000000000001,
          null,
          87.60000000000002,
          247,
          null,
          297,
          268,
          382,
          162.2644827586207,
          170,
          346.91,
          83.60000000000002,
          239.57,
          28412.55769230769,
          593,
          117.9,
          1935,
          617,
          16401.00000000001,
          739,
          429.53,
          null,
          null,
          null,
          2743,
          753.0799999999999,
          145,
          1191,
          3727,
          952.2400000000001,
          1407.6,
          214.52,
          660,
          1347,
          5913,
          null,
          1451.29,
          1440,
          834.25,
          2393,
          58947.57142857146,
          null,
          null,
          1545.03,
          1178,
          null,
          1131.97,
          5129.51,
          981.6088888888886,
          406,
          1270,
          1166.1,
          null,
          1619.538461538461,
          1259,
          null,
          null,
          2529,
          1498,
          2205,
          null,
          1314.69,
          2917,
          440,
          null,
          null,
          2210,
          1097,
          1836,
          338.83,
          null,
          1761,
          null,
          1843.06,
          2047,
          null,
          2069,
          2378,
          1101.68,
          null,
          1668,
          null,
          1959,
          581,
          1902,
          null,
          550.6,
          717,
          466.85,
          1956,
          1767.39,
          504.31,
          892,
          923,
          1998.04,
          1899,
          1007,
          null,
          1996,
          4246,
          2234,
          2333,
          1290,
          2224,
          1580,
          2206,
          83176.84615384614,
          null,
          55474.23076923077,
          1522,
          1301.72,
          null,
          2574,
          4482.4,
          1073.89,
          4690,
          null,
          190618.9999999998,
          null,
          null,
          3144,
          2788,
          3056,
          2928,
          2268,
          1060,
          1357,
          2042.3,
          null,
          null,
          6871,
          6794,
          1561,
          3679,
          1151,
          2063,
          1189,
          null,
          12730.39999999999,
          1814.4,
          3285,
          1806,
          4402.4,
          1420,
          3390,
          null,
          150772.3076923077,
          1064,
          null,
          3228,
          1140,
          3700,
          4005.64,
          1376,
          1146.01,
          1392,
          5976.35,
          2036.36,
          2134.32,
          null,
          3987,
          null,
          1653,
          4690,
          2867,
          4633,
          1093.3,
          1925,
          4921,
          4676,
          1247.49,
          2931,
          4474,
          5885.65,
          3447,
          1733,
          3397,
          1774,
          4971,
          null,
          7228,
          61663.02666666666,
          null,
          4134,
          1517,
          null,
          3045,
          null,
          1484.3,
          3725,
          7987.18,
          4550,
          6692,
          6090,
          1800,
          null,
          9268,
          null,
          6567,
          4152,
          2824,
          2843,
          null,
          7554,
          4698.148333333334,
          8258.029999999999,
          6617.65,
          6852,
          null,
          3414,
          1857.89,
          1759,
          7487,
          1948.68,
          7165,
          null,
          1836.98,
          11917,
          null,
          null,
          null,
          2272,
          null,
          12131,
          12937,
          null,
          111172.9999999999,
          3248,
          3310,
          null,
          null,
          null,
          5844.95,
          null,
          2184.77,
          16439,
          1951.07,
          2123,
          null,
          9166,
          2218.64,
          6762,
          7728,
          2651.53,
          14724,
          2026,
          2738,
          3788,
          6399,
          95211.67000000003,
          2630.73,
          12535.9,
          3891,
          2558.26,
          2806.73,
          null,
          9845,
          4585.27,
          4069,
          2496.04,
          2643.29,
          12053,
          4298.33,
          9939,
          2734.81,
          2531.11,
          9604,
          2618.8,
          2540.44,
          11749,
          2736.65,
          10661.87,
          null,
          15023,
          7243,
          2370.1,
          5410,
          2810.26,
          2568.04,
          12371.96,
          23232,
          2759,
          11988.97,
          14348,
          2874.97,
          null,
          3055.63,
          null,
          12769,
          2746.73,
          3048.52,
          null,
          12531,
          2971.59,
          3025.59,
          3280.08,
          2908.09,
          3077.04,
          null,
          3245.33,
          6897,
          null,
          3309.67,
          9303.77,
          null,
          null,
          4132,
          4268,
          78006,
          26645,
          null,
          4284,
          null,
          null,
          null,
          20916,
          5203.75,
          6669,
          8400,
          3664,
          null,
          3666.4,
          4070,
          10563,
          17872,
          3837,
          4045.54,
          6080,
          10752.74,
          5733,
          7338,
          4093,
          13104,
          null,
          20362,
          3971.96,
          null,
          4026,
          null,
          21239,
          17814,
          4332.1,
          4498.39,
          11102,
          4543.38,
          6351.700000000001,
          6965,
          null,
          4552,
          7830,
          4165,
          null,
          19712.58,
          null,
          6888,
          5068.92,
          5225.62,
          4706,
          8816,
          20186.63,
          7300,
          6580,
          32405.67,
          22404,
          4691,
          20473.33333333333,
          8780,
          4762,
          4966,
          4583.109999999999,
          null,
          4985,
          null,
          5066,
          7182.1,
          7241,
          6141.13,
          5322,
          5208,
          5832.860000000001,
          35342.61538461538,
          null,
          5928,
          8379,
          6651,
          13866,
          44634,
          7278,
          14667,
          6287.05,
          43860,
          7580,
          6188,
          8888,
          null,
          null,
          20826,
          11468.6,
          13060,
          11688.18,
          10184.26,
          10606.48,
          null,
          null,
          7367,
          7616,
          9775,
          20558,
          null,
          8102,
          40226,
          9463.9,
          19207.98,
          8002,
          7861,
          7752,
          null,
          null,
          13838,
          9443,
          10661,
          null,
          9648,
          null,
          null,
          8681,
          53934.07692307691,
          60465,
          null,
          10071.94,
          13464,
          47175,
          9706,
          null,
          26842,
          9623,
          66295,
          53313,
          null,
          null,
          10308,
          49593.05,
          14952,
          9592,
          45850,
          22087.64,
          10339,
          9888.399999999998,
          null,
          49840.06,
          11382,
          69318,
          10915,
          10932,
          11795,
          12351,
          14595,
          21975,
          15965,
          null,
          12715,
          null
         ],
         "y0": " ",
         "yaxis": "y"
        }
       ],
       "layout": {
        "boxmode": "group",
        "height": 800,
        "legend": {
         "tracegroupgap": 0
        },
        "template": {
         "data": {
          "bar": [
           {
            "error_x": {
             "color": "#2a3f5f"
            },
            "error_y": {
             "color": "#2a3f5f"
            },
            "marker": {
             "line": {
              "color": "#E5ECF6",
              "width": 0.5
             },
             "pattern": {
              "fillmode": "overlay",
              "size": 10,
              "solidity": 0.2
             }
            },
            "type": "bar"
           }
          ],
          "barpolar": [
           {
            "marker": {
             "line": {
              "color": "#E5ECF6",
              "width": 0.5
             },
             "pattern": {
              "fillmode": "overlay",
              "size": 10,
              "solidity": 0.2
             }
            },
            "type": "barpolar"
           }
          ],
          "carpet": [
           {
            "aaxis": {
             "endlinecolor": "#2a3f5f",
             "gridcolor": "white",
             "linecolor": "white",
             "minorgridcolor": "white",
             "startlinecolor": "#2a3f5f"
            },
            "baxis": {
             "endlinecolor": "#2a3f5f",
             "gridcolor": "white",
             "linecolor": "white",
             "minorgridcolor": "white",
             "startlinecolor": "#2a3f5f"
            },
            "type": "carpet"
           }
          ],
          "choropleth": [
           {
            "colorbar": {
             "outlinewidth": 0,
             "ticks": ""
            },
            "type": "choropleth"
           }
          ],
          "contour": [
           {
            "colorbar": {
             "outlinewidth": 0,
             "ticks": ""
            },
            "colorscale": [
             [
              0,
              "#0d0887"
             ],
             [
              0.1111111111111111,
              "#46039f"
             ],
             [
              0.2222222222222222,
              "#7201a8"
             ],
             [
              0.3333333333333333,
              "#9c179e"
             ],
             [
              0.4444444444444444,
              "#bd3786"
             ],
             [
              0.5555555555555556,
              "#d8576b"
             ],
             [
              0.6666666666666666,
              "#ed7953"
             ],
             [
              0.7777777777777778,
              "#fb9f3a"
             ],
             [
              0.8888888888888888,
              "#fdca26"
             ],
             [
              1,
              "#f0f921"
             ]
            ],
            "type": "contour"
           }
          ],
          "contourcarpet": [
           {
            "colorbar": {
             "outlinewidth": 0,
             "ticks": ""
            },
            "type": "contourcarpet"
           }
          ],
          "heatmap": [
           {
            "colorbar": {
             "outlinewidth": 0,
             "ticks": ""
            },
            "colorscale": [
             [
              0,
              "#0d0887"
             ],
             [
              0.1111111111111111,
              "#46039f"
             ],
             [
              0.2222222222222222,
              "#7201a8"
             ],
             [
              0.3333333333333333,
              "#9c179e"
             ],
             [
              0.4444444444444444,
              "#bd3786"
             ],
             [
              0.5555555555555556,
              "#d8576b"
             ],
             [
              0.6666666666666666,
              "#ed7953"
             ],
             [
              0.7777777777777778,
              "#fb9f3a"
             ],
             [
              0.8888888888888888,
              "#fdca26"
             ],
             [
              1,
              "#f0f921"
             ]
            ],
            "type": "heatmap"
           }
          ],
          "heatmapgl": [
           {
            "colorbar": {
             "outlinewidth": 0,
             "ticks": ""
            },
            "colorscale": [
             [
              0,
              "#0d0887"
             ],
             [
              0.1111111111111111,
              "#46039f"
             ],
             [
              0.2222222222222222,
              "#7201a8"
             ],
             [
              0.3333333333333333,
              "#9c179e"
             ],
             [
              0.4444444444444444,
              "#bd3786"
             ],
             [
              0.5555555555555556,
              "#d8576b"
             ],
             [
              0.6666666666666666,
              "#ed7953"
             ],
             [
              0.7777777777777778,
              "#fb9f3a"
             ],
             [
              0.8888888888888888,
              "#fdca26"
             ],
             [
              1,
              "#f0f921"
             ]
            ],
            "type": "heatmapgl"
           }
          ],
          "histogram": [
           {
            "marker": {
             "pattern": {
              "fillmode": "overlay",
              "size": 10,
              "solidity": 0.2
             }
            },
            "type": "histogram"
           }
          ],
          "histogram2d": [
           {
            "colorbar": {
             "outlinewidth": 0,
             "ticks": ""
            },
            "colorscale": [
             [
              0,
              "#0d0887"
             ],
             [
              0.1111111111111111,
              "#46039f"
             ],
             [
              0.2222222222222222,
              "#7201a8"
             ],
             [
              0.3333333333333333,
              "#9c179e"
             ],
             [
              0.4444444444444444,
              "#bd3786"
             ],
             [
              0.5555555555555556,
              "#d8576b"
             ],
             [
              0.6666666666666666,
              "#ed7953"
             ],
             [
              0.7777777777777778,
              "#fb9f3a"
             ],
             [
              0.8888888888888888,
              "#fdca26"
             ],
             [
              1,
              "#f0f921"
             ]
            ],
            "type": "histogram2d"
           }
          ],
          "histogram2dcontour": [
           {
            "colorbar": {
             "outlinewidth": 0,
             "ticks": ""
            },
            "colorscale": [
             [
              0,
              "#0d0887"
             ],
             [
              0.1111111111111111,
              "#46039f"
             ],
             [
              0.2222222222222222,
              "#7201a8"
             ],
             [
              0.3333333333333333,
              "#9c179e"
             ],
             [
              0.4444444444444444,
              "#bd3786"
             ],
             [
              0.5555555555555556,
              "#d8576b"
             ],
             [
              0.6666666666666666,
              "#ed7953"
             ],
             [
              0.7777777777777778,
              "#fb9f3a"
             ],
             [
              0.8888888888888888,
              "#fdca26"
             ],
             [
              1,
              "#f0f921"
             ]
            ],
            "type": "histogram2dcontour"
           }
          ],
          "mesh3d": [
           {
            "colorbar": {
             "outlinewidth": 0,
             "ticks": ""
            },
            "type": "mesh3d"
           }
          ],
          "parcoords": [
           {
            "line": {
             "colorbar": {
              "outlinewidth": 0,
              "ticks": ""
             }
            },
            "type": "parcoords"
           }
          ],
          "pie": [
           {
            "automargin": true,
            "type": "pie"
           }
          ],
          "scatter": [
           {
            "marker": {
             "colorbar": {
              "outlinewidth": 0,
              "ticks": ""
             }
            },
            "type": "scatter"
           }
          ],
          "scatter3d": [
           {
            "line": {
             "colorbar": {
              "outlinewidth": 0,
              "ticks": ""
             }
            },
            "marker": {
             "colorbar": {
              "outlinewidth": 0,
              "ticks": ""
             }
            },
            "type": "scatter3d"
           }
          ],
          "scattercarpet": [
           {
            "marker": {
             "colorbar": {
              "outlinewidth": 0,
              "ticks": ""
             }
            },
            "type": "scattercarpet"
           }
          ],
          "scattergeo": [
           {
            "marker": {
             "colorbar": {
              "outlinewidth": 0,
              "ticks": ""
             }
            },
            "type": "scattergeo"
           }
          ],
          "scattergl": [
           {
            "marker": {
             "colorbar": {
              "outlinewidth": 0,
              "ticks": ""
             }
            },
            "type": "scattergl"
           }
          ],
          "scattermapbox": [
           {
            "marker": {
             "colorbar": {
              "outlinewidth": 0,
              "ticks": ""
             }
            },
            "type": "scattermapbox"
           }
          ],
          "scatterpolar": [
           {
            "marker": {
             "colorbar": {
              "outlinewidth": 0,
              "ticks": ""
             }
            },
            "type": "scatterpolar"
           }
          ],
          "scatterpolargl": [
           {
            "marker": {
             "colorbar": {
              "outlinewidth": 0,
              "ticks": ""
             }
            },
            "type": "scatterpolargl"
           }
          ],
          "scatterternary": [
           {
            "marker": {
             "colorbar": {
              "outlinewidth": 0,
              "ticks": ""
             }
            },
            "type": "scatterternary"
           }
          ],
          "surface": [
           {
            "colorbar": {
             "outlinewidth": 0,
             "ticks": ""
            },
            "colorscale": [
             [
              0,
              "#0d0887"
             ],
             [
              0.1111111111111111,
              "#46039f"
             ],
             [
              0.2222222222222222,
              "#7201a8"
             ],
             [
              0.3333333333333333,
              "#9c179e"
             ],
             [
              0.4444444444444444,
              "#bd3786"
             ],
             [
              0.5555555555555556,
              "#d8576b"
             ],
             [
              0.6666666666666666,
              "#ed7953"
             ],
             [
              0.7777777777777778,
              "#fb9f3a"
             ],
             [
              0.8888888888888888,
              "#fdca26"
             ],
             [
              1,
              "#f0f921"
             ]
            ],
            "type": "surface"
           }
          ],
          "table": [
           {
            "cells": {
             "fill": {
              "color": "#EBF0F8"
             },
             "line": {
              "color": "white"
             }
            },
            "header": {
             "fill": {
              "color": "#C8D4E3"
             },
             "line": {
              "color": "white"
             }
            },
            "type": "table"
           }
          ]
         },
         "layout": {
          "annotationdefaults": {
           "arrowcolor": "#2a3f5f",
           "arrowhead": 0,
           "arrowwidth": 1
          },
          "autotypenumbers": "strict",
          "coloraxis": {
           "colorbar": {
            "outlinewidth": 0,
            "ticks": ""
           }
          },
          "colorscale": {
           "diverging": [
            [
             0,
             "#8e0152"
            ],
            [
             0.1,
             "#c51b7d"
            ],
            [
             0.2,
             "#de77ae"
            ],
            [
             0.3,
             "#f1b6da"
            ],
            [
             0.4,
             "#fde0ef"
            ],
            [
             0.5,
             "#f7f7f7"
            ],
            [
             0.6,
             "#e6f5d0"
            ],
            [
             0.7,
             "#b8e186"
            ],
            [
             0.8,
             "#7fbc41"
            ],
            [
             0.9,
             "#4d9221"
            ],
            [
             1,
             "#276419"
            ]
           ],
           "sequential": [
            [
             0,
             "#0d0887"
            ],
            [
             0.1111111111111111,
             "#46039f"
            ],
            [
             0.2222222222222222,
             "#7201a8"
            ],
            [
             0.3333333333333333,
             "#9c179e"
            ],
            [
             0.4444444444444444,
             "#bd3786"
            ],
            [
             0.5555555555555556,
             "#d8576b"
            ],
            [
             0.6666666666666666,
             "#ed7953"
            ],
            [
             0.7777777777777778,
             "#fb9f3a"
            ],
            [
             0.8888888888888888,
             "#fdca26"
            ],
            [
             1,
             "#f0f921"
            ]
           ],
           "sequentialminus": [
            [
             0,
             "#0d0887"
            ],
            [
             0.1111111111111111,
             "#46039f"
            ],
            [
             0.2222222222222222,
             "#7201a8"
            ],
            [
             0.3333333333333333,
             "#9c179e"
            ],
            [
             0.4444444444444444,
             "#bd3786"
            ],
            [
             0.5555555555555556,
             "#d8576b"
            ],
            [
             0.6666666666666666,
             "#ed7953"
            ],
            [
             0.7777777777777778,
             "#fb9f3a"
            ],
            [
             0.8888888888888888,
             "#fdca26"
            ],
            [
             1,
             "#f0f921"
            ]
           ]
          },
          "colorway": [
           "#636efa",
           "#EF553B",
           "#00cc96",
           "#ab63fa",
           "#FFA15A",
           "#19d3f3",
           "#FF6692",
           "#B6E880",
           "#FF97FF",
           "#FECB52"
          ],
          "font": {
           "color": "#2a3f5f"
          },
          "geo": {
           "bgcolor": "white",
           "lakecolor": "white",
           "landcolor": "#E5ECF6",
           "showlakes": true,
           "showland": true,
           "subunitcolor": "white"
          },
          "hoverlabel": {
           "align": "left"
          },
          "hovermode": "closest",
          "mapbox": {
           "style": "light"
          },
          "paper_bgcolor": "white",
          "plot_bgcolor": "#E5ECF6",
          "polar": {
           "angularaxis": {
            "gridcolor": "white",
            "linecolor": "white",
            "ticks": ""
           },
           "bgcolor": "#E5ECF6",
           "radialaxis": {
            "gridcolor": "white",
            "linecolor": "white",
            "ticks": ""
           }
          },
          "scene": {
           "xaxis": {
            "backgroundcolor": "#E5ECF6",
            "gridcolor": "white",
            "gridwidth": 2,
            "linecolor": "white",
            "showbackground": true,
            "ticks": "",
            "zerolinecolor": "white"
           },
           "yaxis": {
            "backgroundcolor": "#E5ECF6",
            "gridcolor": "white",
            "gridwidth": 2,
            "linecolor": "white",
            "showbackground": true,
            "ticks": "",
            "zerolinecolor": "white"
           },
           "zaxis": {
            "backgroundcolor": "#E5ECF6",
            "gridcolor": "white",
            "gridwidth": 2,
            "linecolor": "white",
            "showbackground": true,
            "ticks": "",
            "zerolinecolor": "white"
           }
          },
          "shapedefaults": {
           "line": {
            "color": "#2a3f5f"
           }
          },
          "ternary": {
           "aaxis": {
            "gridcolor": "white",
            "linecolor": "white",
            "ticks": ""
           },
           "baxis": {
            "gridcolor": "white",
            "linecolor": "white",
            "ticks": ""
           },
           "bgcolor": "#E5ECF6",
           "caxis": {
            "gridcolor": "white",
            "linecolor": "white",
            "ticks": ""
           }
          },
          "title": {
           "x": 0.05
          },
          "xaxis": {
           "automargin": true,
           "gridcolor": "white",
           "linecolor": "white",
           "ticks": "",
           "title": {
            "standoff": 15
           },
           "zerolinecolor": "white",
           "zerolinewidth": 2
          },
          "yaxis": {
           "automargin": true,
           "gridcolor": "white",
           "linecolor": "white",
           "ticks": "",
           "title": {
            "standoff": 15
           },
           "zerolinecolor": "white",
           "zerolinewidth": 2
          }
         }
        },
        "title": {
         "text": " Emissions distributions per NAF macrosector"
        },
        "xaxis": {
         "anchor": "y",
         "domain": [
          0,
          1
         ],
         "title": {
          "text": "sector_naf_level_0_details"
         }
        },
        "yaxis": {
         "anchor": "x",
         "domain": [
          0,
          1
         ],
         "title": {
          "text": "emissions_total"
         }
        }
       }
      }
     },
     "metadata": {},
     "output_type": "display_data"
    }
   ],
   "source": [
    "px.box(df_train, y =df_train['emissions_total'], x = df_train['sector_naf_level_0_details'],  height = 800, title= \" Emissions distributions per NAF macrosector\" )\n",
    "\n",
    "#you can zoom on the graph if needed"
   ]
  },
  {
   "cell_type": "code",
   "execution_count": 11,
   "metadata": {},
   "outputs": [
    {
     "name": "stdout",
     "output_type": "stream",
     "text": [
      "<class 'pandas.core.frame.DataFrame'>\n",
      "RangeIndex: 315 entries, 0 to 314\n",
      "Data columns (total 13 columns):\n",
      " #   Column                      Non-Null Count  Dtype         \n",
      "---  ------                      --------------  -----         \n",
      " 0   entity_name                 315 non-null    object        \n",
      " 1   date                        315 non-null    int64         \n",
      " 2   date_publication            311 non-null    datetime64[ns]\n",
      " 3   entity_employees            315 non-null    int64         \n",
      " 4   entity_sales                189 non-null    object        \n",
      " 5   source                      315 non-null    object        \n",
      " 6   siren                       314 non-null    float64       \n",
      " 7   description_en              315 non-null    object        \n",
      " 8   sector_naf_level_0_details  315 non-null    object        \n",
      " 9   sector_naf_level_1_details  315 non-null    object        \n",
      " 10  sector_naf_level_2          315 non-null    object        \n",
      " 11  region                      0 non-null      float64       \n",
      " 12  city                        311 non-null    object        \n",
      "dtypes: datetime64[ns](1), float64(2), int64(2), object(8)\n",
      "memory usage: 32.1+ KB\n"
     ]
    }
   ],
   "source": [
    "df_test.info()"
   ]
  },
  {
   "cell_type": "code",
   "execution_count": 12,
   "metadata": {},
   "outputs": [
    {
     "data": {
      "application/vnd.plotly.v1+json": {
       "config": {
        "plotlyServerURL": "https://plot.ly"
       },
       "data": [
        {
         "alignmentgroup": "True",
         "hovertemplate": "x=%{x}<br>y=%{y}<extra></extra>",
         "legendgroup": "",
         "marker": {
          "color": "#636efa",
          "pattern": {
           "shape": ""
          }
         },
         "name": "",
         "offsetgroup": "",
         "orientation": "v",
         "showlegend": false,
         "textposition": "auto",
         "type": "bar",
         "x": [
          "C. Industrie Manufacturière",
          "K. Activité financières et d'assurance",
          "G. Commerce; réparation d'automobiles et de motocycles",
          "M. Activités spécialisées, scientifiques et techniques",
          "O. Administration publique",
          "H. Transport et entreposage",
          "F. Construction",
          "N. Activités de services de services administratifs et de soutien",
          "J. Information et communication",
          "Q. Santé humaine et action sociale",
          "E. Production et distribution d'eau; assainissement, gestion des déchets et dépollution",
          "I. Hébergement et restauration",
          "L. Activités immobilières",
          "D. Production et distribution d'électricité, de gaz, de vapeur et d'air conditionné",
          "A. Agriculture, sylviculture et pêche",
          "R. Art, spectacles et activités récréatives",
          "S. Autres activités de service",
          "B. Industries extractives",
          "P. Enseignement"
         ],
         "xaxis": "x",
         "y": [
          103,
          38,
          37,
          21,
          20,
          20,
          14,
          13,
          13,
          9,
          7,
          6,
          4,
          3,
          2,
          2,
          1,
          1,
          1
         ],
         "yaxis": "y"
        }
       ],
       "layout": {
        "barmode": "relative",
        "legend": {
         "tracegroupgap": 0
        },
        "template": {
         "data": {
          "bar": [
           {
            "error_x": {
             "color": "#2a3f5f"
            },
            "error_y": {
             "color": "#2a3f5f"
            },
            "marker": {
             "line": {
              "color": "#E5ECF6",
              "width": 0.5
             },
             "pattern": {
              "fillmode": "overlay",
              "size": 10,
              "solidity": 0.2
             }
            },
            "type": "bar"
           }
          ],
          "barpolar": [
           {
            "marker": {
             "line": {
              "color": "#E5ECF6",
              "width": 0.5
             },
             "pattern": {
              "fillmode": "overlay",
              "size": 10,
              "solidity": 0.2
             }
            },
            "type": "barpolar"
           }
          ],
          "carpet": [
           {
            "aaxis": {
             "endlinecolor": "#2a3f5f",
             "gridcolor": "white",
             "linecolor": "white",
             "minorgridcolor": "white",
             "startlinecolor": "#2a3f5f"
            },
            "baxis": {
             "endlinecolor": "#2a3f5f",
             "gridcolor": "white",
             "linecolor": "white",
             "minorgridcolor": "white",
             "startlinecolor": "#2a3f5f"
            },
            "type": "carpet"
           }
          ],
          "choropleth": [
           {
            "colorbar": {
             "outlinewidth": 0,
             "ticks": ""
            },
            "type": "choropleth"
           }
          ],
          "contour": [
           {
            "colorbar": {
             "outlinewidth": 0,
             "ticks": ""
            },
            "colorscale": [
             [
              0,
              "#0d0887"
             ],
             [
              0.1111111111111111,
              "#46039f"
             ],
             [
              0.2222222222222222,
              "#7201a8"
             ],
             [
              0.3333333333333333,
              "#9c179e"
             ],
             [
              0.4444444444444444,
              "#bd3786"
             ],
             [
              0.5555555555555556,
              "#d8576b"
             ],
             [
              0.6666666666666666,
              "#ed7953"
             ],
             [
              0.7777777777777778,
              "#fb9f3a"
             ],
             [
              0.8888888888888888,
              "#fdca26"
             ],
             [
              1,
              "#f0f921"
             ]
            ],
            "type": "contour"
           }
          ],
          "contourcarpet": [
           {
            "colorbar": {
             "outlinewidth": 0,
             "ticks": ""
            },
            "type": "contourcarpet"
           }
          ],
          "heatmap": [
           {
            "colorbar": {
             "outlinewidth": 0,
             "ticks": ""
            },
            "colorscale": [
             [
              0,
              "#0d0887"
             ],
             [
              0.1111111111111111,
              "#46039f"
             ],
             [
              0.2222222222222222,
              "#7201a8"
             ],
             [
              0.3333333333333333,
              "#9c179e"
             ],
             [
              0.4444444444444444,
              "#bd3786"
             ],
             [
              0.5555555555555556,
              "#d8576b"
             ],
             [
              0.6666666666666666,
              "#ed7953"
             ],
             [
              0.7777777777777778,
              "#fb9f3a"
             ],
             [
              0.8888888888888888,
              "#fdca26"
             ],
             [
              1,
              "#f0f921"
             ]
            ],
            "type": "heatmap"
           }
          ],
          "heatmapgl": [
           {
            "colorbar": {
             "outlinewidth": 0,
             "ticks": ""
            },
            "colorscale": [
             [
              0,
              "#0d0887"
             ],
             [
              0.1111111111111111,
              "#46039f"
             ],
             [
              0.2222222222222222,
              "#7201a8"
             ],
             [
              0.3333333333333333,
              "#9c179e"
             ],
             [
              0.4444444444444444,
              "#bd3786"
             ],
             [
              0.5555555555555556,
              "#d8576b"
             ],
             [
              0.6666666666666666,
              "#ed7953"
             ],
             [
              0.7777777777777778,
              "#fb9f3a"
             ],
             [
              0.8888888888888888,
              "#fdca26"
             ],
             [
              1,
              "#f0f921"
             ]
            ],
            "type": "heatmapgl"
           }
          ],
          "histogram": [
           {
            "marker": {
             "pattern": {
              "fillmode": "overlay",
              "size": 10,
              "solidity": 0.2
             }
            },
            "type": "histogram"
           }
          ],
          "histogram2d": [
           {
            "colorbar": {
             "outlinewidth": 0,
             "ticks": ""
            },
            "colorscale": [
             [
              0,
              "#0d0887"
             ],
             [
              0.1111111111111111,
              "#46039f"
             ],
             [
              0.2222222222222222,
              "#7201a8"
             ],
             [
              0.3333333333333333,
              "#9c179e"
             ],
             [
              0.4444444444444444,
              "#bd3786"
             ],
             [
              0.5555555555555556,
              "#d8576b"
             ],
             [
              0.6666666666666666,
              "#ed7953"
             ],
             [
              0.7777777777777778,
              "#fb9f3a"
             ],
             [
              0.8888888888888888,
              "#fdca26"
             ],
             [
              1,
              "#f0f921"
             ]
            ],
            "type": "histogram2d"
           }
          ],
          "histogram2dcontour": [
           {
            "colorbar": {
             "outlinewidth": 0,
             "ticks": ""
            },
            "colorscale": [
             [
              0,
              "#0d0887"
             ],
             [
              0.1111111111111111,
              "#46039f"
             ],
             [
              0.2222222222222222,
              "#7201a8"
             ],
             [
              0.3333333333333333,
              "#9c179e"
             ],
             [
              0.4444444444444444,
              "#bd3786"
             ],
             [
              0.5555555555555556,
              "#d8576b"
             ],
             [
              0.6666666666666666,
              "#ed7953"
             ],
             [
              0.7777777777777778,
              "#fb9f3a"
             ],
             [
              0.8888888888888888,
              "#fdca26"
             ],
             [
              1,
              "#f0f921"
             ]
            ],
            "type": "histogram2dcontour"
           }
          ],
          "mesh3d": [
           {
            "colorbar": {
             "outlinewidth": 0,
             "ticks": ""
            },
            "type": "mesh3d"
           }
          ],
          "parcoords": [
           {
            "line": {
             "colorbar": {
              "outlinewidth": 0,
              "ticks": ""
             }
            },
            "type": "parcoords"
           }
          ],
          "pie": [
           {
            "automargin": true,
            "type": "pie"
           }
          ],
          "scatter": [
           {
            "marker": {
             "colorbar": {
              "outlinewidth": 0,
              "ticks": ""
             }
            },
            "type": "scatter"
           }
          ],
          "scatter3d": [
           {
            "line": {
             "colorbar": {
              "outlinewidth": 0,
              "ticks": ""
             }
            },
            "marker": {
             "colorbar": {
              "outlinewidth": 0,
              "ticks": ""
             }
            },
            "type": "scatter3d"
           }
          ],
          "scattercarpet": [
           {
            "marker": {
             "colorbar": {
              "outlinewidth": 0,
              "ticks": ""
             }
            },
            "type": "scattercarpet"
           }
          ],
          "scattergeo": [
           {
            "marker": {
             "colorbar": {
              "outlinewidth": 0,
              "ticks": ""
             }
            },
            "type": "scattergeo"
           }
          ],
          "scattergl": [
           {
            "marker": {
             "colorbar": {
              "outlinewidth": 0,
              "ticks": ""
             }
            },
            "type": "scattergl"
           }
          ],
          "scattermapbox": [
           {
            "marker": {
             "colorbar": {
              "outlinewidth": 0,
              "ticks": ""
             }
            },
            "type": "scattermapbox"
           }
          ],
          "scatterpolar": [
           {
            "marker": {
             "colorbar": {
              "outlinewidth": 0,
              "ticks": ""
             }
            },
            "type": "scatterpolar"
           }
          ],
          "scatterpolargl": [
           {
            "marker": {
             "colorbar": {
              "outlinewidth": 0,
              "ticks": ""
             }
            },
            "type": "scatterpolargl"
           }
          ],
          "scatterternary": [
           {
            "marker": {
             "colorbar": {
              "outlinewidth": 0,
              "ticks": ""
             }
            },
            "type": "scatterternary"
           }
          ],
          "surface": [
           {
            "colorbar": {
             "outlinewidth": 0,
             "ticks": ""
            },
            "colorscale": [
             [
              0,
              "#0d0887"
             ],
             [
              0.1111111111111111,
              "#46039f"
             ],
             [
              0.2222222222222222,
              "#7201a8"
             ],
             [
              0.3333333333333333,
              "#9c179e"
             ],
             [
              0.4444444444444444,
              "#bd3786"
             ],
             [
              0.5555555555555556,
              "#d8576b"
             ],
             [
              0.6666666666666666,
              "#ed7953"
             ],
             [
              0.7777777777777778,
              "#fb9f3a"
             ],
             [
              0.8888888888888888,
              "#fdca26"
             ],
             [
              1,
              "#f0f921"
             ]
            ],
            "type": "surface"
           }
          ],
          "table": [
           {
            "cells": {
             "fill": {
              "color": "#EBF0F8"
             },
             "line": {
              "color": "white"
             }
            },
            "header": {
             "fill": {
              "color": "#C8D4E3"
             },
             "line": {
              "color": "white"
             }
            },
            "type": "table"
           }
          ]
         },
         "layout": {
          "annotationdefaults": {
           "arrowcolor": "#2a3f5f",
           "arrowhead": 0,
           "arrowwidth": 1
          },
          "autotypenumbers": "strict",
          "coloraxis": {
           "colorbar": {
            "outlinewidth": 0,
            "ticks": ""
           }
          },
          "colorscale": {
           "diverging": [
            [
             0,
             "#8e0152"
            ],
            [
             0.1,
             "#c51b7d"
            ],
            [
             0.2,
             "#de77ae"
            ],
            [
             0.3,
             "#f1b6da"
            ],
            [
             0.4,
             "#fde0ef"
            ],
            [
             0.5,
             "#f7f7f7"
            ],
            [
             0.6,
             "#e6f5d0"
            ],
            [
             0.7,
             "#b8e186"
            ],
            [
             0.8,
             "#7fbc41"
            ],
            [
             0.9,
             "#4d9221"
            ],
            [
             1,
             "#276419"
            ]
           ],
           "sequential": [
            [
             0,
             "#0d0887"
            ],
            [
             0.1111111111111111,
             "#46039f"
            ],
            [
             0.2222222222222222,
             "#7201a8"
            ],
            [
             0.3333333333333333,
             "#9c179e"
            ],
            [
             0.4444444444444444,
             "#bd3786"
            ],
            [
             0.5555555555555556,
             "#d8576b"
            ],
            [
             0.6666666666666666,
             "#ed7953"
            ],
            [
             0.7777777777777778,
             "#fb9f3a"
            ],
            [
             0.8888888888888888,
             "#fdca26"
            ],
            [
             1,
             "#f0f921"
            ]
           ],
           "sequentialminus": [
            [
             0,
             "#0d0887"
            ],
            [
             0.1111111111111111,
             "#46039f"
            ],
            [
             0.2222222222222222,
             "#7201a8"
            ],
            [
             0.3333333333333333,
             "#9c179e"
            ],
            [
             0.4444444444444444,
             "#bd3786"
            ],
            [
             0.5555555555555556,
             "#d8576b"
            ],
            [
             0.6666666666666666,
             "#ed7953"
            ],
            [
             0.7777777777777778,
             "#fb9f3a"
            ],
            [
             0.8888888888888888,
             "#fdca26"
            ],
            [
             1,
             "#f0f921"
            ]
           ]
          },
          "colorway": [
           "#636efa",
           "#EF553B",
           "#00cc96",
           "#ab63fa",
           "#FFA15A",
           "#19d3f3",
           "#FF6692",
           "#B6E880",
           "#FF97FF",
           "#FECB52"
          ],
          "font": {
           "color": "#2a3f5f"
          },
          "geo": {
           "bgcolor": "white",
           "lakecolor": "white",
           "landcolor": "#E5ECF6",
           "showlakes": true,
           "showland": true,
           "subunitcolor": "white"
          },
          "hoverlabel": {
           "align": "left"
          },
          "hovermode": "closest",
          "mapbox": {
           "style": "light"
          },
          "paper_bgcolor": "white",
          "plot_bgcolor": "#E5ECF6",
          "polar": {
           "angularaxis": {
            "gridcolor": "white",
            "linecolor": "white",
            "ticks": ""
           },
           "bgcolor": "#E5ECF6",
           "radialaxis": {
            "gridcolor": "white",
            "linecolor": "white",
            "ticks": ""
           }
          },
          "scene": {
           "xaxis": {
            "backgroundcolor": "#E5ECF6",
            "gridcolor": "white",
            "gridwidth": 2,
            "linecolor": "white",
            "showbackground": true,
            "ticks": "",
            "zerolinecolor": "white"
           },
           "yaxis": {
            "backgroundcolor": "#E5ECF6",
            "gridcolor": "white",
            "gridwidth": 2,
            "linecolor": "white",
            "showbackground": true,
            "ticks": "",
            "zerolinecolor": "white"
           },
           "zaxis": {
            "backgroundcolor": "#E5ECF6",
            "gridcolor": "white",
            "gridwidth": 2,
            "linecolor": "white",
            "showbackground": true,
            "ticks": "",
            "zerolinecolor": "white"
           }
          },
          "shapedefaults": {
           "line": {
            "color": "#2a3f5f"
           }
          },
          "ternary": {
           "aaxis": {
            "gridcolor": "white",
            "linecolor": "white",
            "ticks": ""
           },
           "baxis": {
            "gridcolor": "white",
            "linecolor": "white",
            "ticks": ""
           },
           "bgcolor": "#E5ECF6",
           "caxis": {
            "gridcolor": "white",
            "linecolor": "white",
            "ticks": ""
           }
          },
          "title": {
           "x": 0.05
          },
          "xaxis": {
           "automargin": true,
           "gridcolor": "white",
           "linecolor": "white",
           "ticks": "",
           "title": {
            "standoff": 15
           },
           "zerolinecolor": "white",
           "zerolinewidth": 2
          },
          "yaxis": {
           "automargin": true,
           "gridcolor": "white",
           "linecolor": "white",
           "ticks": "",
           "title": {
            "standoff": 15
           },
           "zerolinecolor": "white",
           "zerolinewidth": 2
          }
         }
        },
        "title": {
         "text": "emissions distribution per NAF macrosector"
        },
        "xaxis": {
         "anchor": "y",
         "domain": [
          0,
          1
         ],
         "title": {
          "text": "x"
         }
        },
        "yaxis": {
         "anchor": "x",
         "domain": [
          0,
          1
         ],
         "title": {
          "text": "y"
         }
        }
       }
      }
     },
     "metadata": {},
     "output_type": "display_data"
    }
   ],
   "source": [
    "px.bar(df_test, x = df_test['sector_naf_level_0_details'].value_counts().index, y = df_test['sector_naf_level_0_details'].value_counts().values, title=\"emissions distribution per NAF macrosector\")"
   ]
  },
  {
   "cell_type": "markdown",
   "metadata": {},
   "source": [
    "To explore more the data you can plot more graphs (that you might add on your presentation support)\n",
    "\n",
    "After the data exploration phase you should start predicting the carbon emissions for each company of the test dataset.\n",
    "\n",
    "For this you might only choose a part of the dataset based on the discriminative features (variables, columns).\n",
    "\n",
    "It can be for instance : only B2C companies, only greentechs, only one sector, one city, one type of revenue model ... it's up to you and your teammates."
   ]
  },
  {
   "cell_type": "markdown",
   "metadata": {},
   "source": [
    "## 3) Modelisation"
   ]
  },
  {
   "cell_type": "markdown",
   "metadata": {},
   "source": [
    "### 3.1) Baseline (basic model)"
   ]
  },
  {
   "cell_type": "markdown",
   "metadata": {},
   "source": [
    "In order to get a first naive estimation of a carbon footprint, you can take the average emissions per sector and per employees."
   ]
  },
  {
   "cell_type": "code",
   "execution_count": 13,
   "metadata": {},
   "outputs": [],
   "source": [
    "df_train['CO2 intensity (/emp)'] = df_train['emissions_total']/df_train['entity_employees'] #here we choose to predict the carbon intensity per employee"
   ]
  },
  {
   "cell_type": "code",
   "execution_count": 14,
   "metadata": {},
   "outputs": [
    {
     "data": {
      "text/html": [
       "<div>\n",
       "<style scoped>\n",
       "    .dataframe tbody tr th:only-of-type {\n",
       "        vertical-align: middle;\n",
       "    }\n",
       "\n",
       "    .dataframe tbody tr th {\n",
       "        vertical-align: top;\n",
       "    }\n",
       "\n",
       "    .dataframe thead th {\n",
       "        text-align: right;\n",
       "    }\n",
       "</style>\n",
       "<table border=\"1\" class=\"dataframe\">\n",
       "  <thead>\n",
       "    <tr style=\"text-align: right;\">\n",
       "      <th></th>\n",
       "      <th>CO2 intensity (/emp)</th>\n",
       "    </tr>\n",
       "    <tr>\n",
       "      <th>sector_naf_level_0_details</th>\n",
       "      <th></th>\n",
       "    </tr>\n",
       "  </thead>\n",
       "  <tbody>\n",
       "    <tr>\n",
       "      <th>A. Agriculture, sylviculture et pêche</th>\n",
       "      <td>221.538115</td>\n",
       "    </tr>\n",
       "    <tr>\n",
       "      <th>C. Industrie Manufacturière</th>\n",
       "      <td>437.721236</td>\n",
       "    </tr>\n",
       "    <tr>\n",
       "      <th>D. Production et distribution d'électricité, de gaz, de vapeur et d'air conditionné</th>\n",
       "      <td>55.964285</td>\n",
       "    </tr>\n",
       "    <tr>\n",
       "      <th>E. Production et distribution d'eau; assainissement, gestion des déchets et dépollution</th>\n",
       "      <td>181.432913</td>\n",
       "    </tr>\n",
       "    <tr>\n",
       "      <th>F. Construction</th>\n",
       "      <td>291.492989</td>\n",
       "    </tr>\n",
       "    <tr>\n",
       "      <th>G. Commerce; réparation d'automobiles et de motocycles</th>\n",
       "      <td>591.523073</td>\n",
       "    </tr>\n",
       "    <tr>\n",
       "      <th>H. Transport et entreposage</th>\n",
       "      <td>1330.395541</td>\n",
       "    </tr>\n",
       "    <tr>\n",
       "      <th>I. Hébergement et restauration</th>\n",
       "      <td>13.208875</td>\n",
       "    </tr>\n",
       "    <tr>\n",
       "      <th>J. Information et communication</th>\n",
       "      <td>175.673683</td>\n",
       "    </tr>\n",
       "    <tr>\n",
       "      <th>K. Activité financières et d'assurance</th>\n",
       "      <td>45.053027</td>\n",
       "    </tr>\n",
       "    <tr>\n",
       "      <th>L. Activités immobilières</th>\n",
       "      <td>21.819079</td>\n",
       "    </tr>\n",
       "    <tr>\n",
       "      <th>M. Activités spécialisées, scientifiques et techniques</th>\n",
       "      <td>105.046302</td>\n",
       "    </tr>\n",
       "    <tr>\n",
       "      <th>N. Activités de services de services administratifs et de soutien</th>\n",
       "      <td>75.055878</td>\n",
       "    </tr>\n",
       "    <tr>\n",
       "      <th>O. Administration publique</th>\n",
       "      <td>543.633773</td>\n",
       "    </tr>\n",
       "    <tr>\n",
       "      <th>P. Enseignement</th>\n",
       "      <td>4.856584</td>\n",
       "    </tr>\n",
       "    <tr>\n",
       "      <th>Q. Santé humaine et action sociale</th>\n",
       "      <td>824.064425</td>\n",
       "    </tr>\n",
       "    <tr>\n",
       "      <th>R. Art, spectacles et activités récréatives</th>\n",
       "      <td>901.172344</td>\n",
       "    </tr>\n",
       "    <tr>\n",
       "      <th>S. Autres activités de service</th>\n",
       "      <td>166.449448</td>\n",
       "    </tr>\n",
       "    <tr>\n",
       "      <th>S. Autres activités de services</th>\n",
       "      <td>160.105769</td>\n",
       "    </tr>\n",
       "  </tbody>\n",
       "</table>\n",
       "</div>"
      ],
      "text/plain": [
       "                                                    CO2 intensity (/emp)\n",
       "sector_naf_level_0_details                                              \n",
       "A. Agriculture, sylviculture et pêche                         221.538115\n",
       "C. Industrie Manufacturière                                   437.721236\n",
       "D. Production et distribution d'électricité, de...             55.964285\n",
       "E. Production et distribution d'eau; assainisse...            181.432913\n",
       "F. Construction                                               291.492989\n",
       "G. Commerce; réparation d'automobiles et de mot...            591.523073\n",
       "H. Transport et entreposage                                  1330.395541\n",
       "I. Hébergement et restauration                                 13.208875\n",
       "J. Information et communication                               175.673683\n",
       "K. Activité financières et d'assurance                         45.053027\n",
       "L. Activités immobilières                                      21.819079\n",
       "M. Activités spécialisées, scientifiques et tec...            105.046302\n",
       "N. Activités de services de services administra...             75.055878\n",
       "O. Administration publique                                    543.633773\n",
       "P. Enseignement                                                 4.856584\n",
       "Q. Santé humaine et action sociale                            824.064425\n",
       "R. Art, spectacles et activités récréatives                   901.172344\n",
       "S. Autres activités de service                                166.449448\n",
       "S. Autres activités de services                               160.105769"
      ]
     },
     "execution_count": 14,
     "metadata": {},
     "output_type": "execute_result"
    }
   ],
   "source": [
    "df_sectors_carbon_intensity = df_train.groupby('sector_naf_level_0_details').mean()[['CO2 intensity (/emp)']] #we create a new dataset to group all the instance per macrosector\n",
    "\n",
    "df_sectors_carbon_intensity"
   ]
  },
  {
   "cell_type": "code",
   "execution_count": 27,
   "metadata": {},
   "outputs": [
    {
     "data": {
      "text/html": [
       "<div>\n",
       "<style scoped>\n",
       "    .dataframe tbody tr th:only-of-type {\n",
       "        vertical-align: middle;\n",
       "    }\n",
       "\n",
       "    .dataframe tbody tr th {\n",
       "        vertical-align: top;\n",
       "    }\n",
       "\n",
       "    .dataframe thead th {\n",
       "        text-align: right;\n",
       "    }\n",
       "</style>\n",
       "<table border=\"1\" class=\"dataframe\">\n",
       "  <thead>\n",
       "    <tr style=\"text-align: right;\">\n",
       "      <th></th>\n",
       "      <th>entity_name</th>\n",
       "      <th>date</th>\n",
       "      <th>date_publication</th>\n",
       "      <th>entity_employees</th>\n",
       "      <th>entity_sales</th>\n",
       "      <th>source</th>\n",
       "      <th>siren</th>\n",
       "      <th>description_en</th>\n",
       "      <th>sector_naf_level_0_details</th>\n",
       "      <th>sector_naf_level_1_details</th>\n",
       "      <th>sector_naf_level_2</th>\n",
       "      <th>region</th>\n",
       "      <th>city</th>\n",
       "      <th>CO2 intensity (/emp)</th>\n",
       "      <th>emissions_total</th>\n",
       "    </tr>\n",
       "  </thead>\n",
       "  <tbody>\n",
       "    <tr>\n",
       "      <th>0</th>\n",
       "      <td>Rector Lesage</td>\n",
       "      <td>2015</td>\n",
       "      <td>2017-01-06</td>\n",
       "      <td>708</td>\n",
       "      <td>185.1414</td>\n",
       "      <td>ADEME</td>\n",
       "      <td>307322214.0</td>\n",
       "      <td>Manufacturing and marketing of concrete elemen...</td>\n",
       "      <td>C. Industrie Manufacturière</td>\n",
       "      <td>23 - Fabrication d'autres produits minéraux no...</td>\n",
       "      <td>2361Z</td>\n",
       "      <td>NaN</td>\n",
       "      <td>MULHOUSE</td>\n",
       "      <td>NaN</td>\n",
       "      <td>NaN</td>\n",
       "    </tr>\n",
       "    <tr>\n",
       "      <th>1</th>\n",
       "      <td>Brandt France</td>\n",
       "      <td>2018</td>\n",
       "      <td>2019-12-20</td>\n",
       "      <td>954</td>\n",
       "      <td>180.0538</td>\n",
       "      <td>ADEME</td>\n",
       "      <td>801250531.0</td>\n",
       "      <td>Manufacture of household appliances</td>\n",
       "      <td>G. Commerce; réparation d'automobiles et de mo...</td>\n",
       "      <td>46 - Commerce de gros, à l’exception des autom...</td>\n",
       "      <td>4643Z</td>\n",
       "      <td>NaN</td>\n",
       "      <td>Rueil Malmaison</td>\n",
       "      <td>NaN</td>\n",
       "      <td>NaN</td>\n",
       "    </tr>\n",
       "    <tr>\n",
       "      <th>2</th>\n",
       "      <td>Caisse Régionale d'Assurance Maladie d'Ile de ...</td>\n",
       "      <td>2018</td>\n",
       "      <td>2019-12-18</td>\n",
       "      <td>1717</td>\n",
       "      <td>NaN</td>\n",
       "      <td>ADEME</td>\n",
       "      <td>775694730.0</td>\n",
       "      <td>The Cramif: pays benefits (disability pension...</td>\n",
       "      <td>O. Administration publique</td>\n",
       "      <td>84 - Administration publique et défense ; sécu...</td>\n",
       "      <td>8430A</td>\n",
       "      <td>NaN</td>\n",
       "      <td>Paris</td>\n",
       "      <td>NaN</td>\n",
       "      <td>NaN</td>\n",
       "    </tr>\n",
       "    <tr>\n",
       "      <th>3</th>\n",
       "      <td>KIMBERLY CLARK SAS</td>\n",
       "      <td>2017</td>\n",
       "      <td>2019-07-08</td>\n",
       "      <td>486</td>\n",
       "      <td>187.6831</td>\n",
       "      <td>ADEME</td>\n",
       "      <td>352600456.0</td>\n",
       "      <td>consumer products for personal hygiene and ca...</td>\n",
       "      <td>C. Industrie Manufacturière</td>\n",
       "      <td>17 - Industrie du papier et du carton</td>\n",
       "      <td>1722Z</td>\n",
       "      <td>NaN</td>\n",
       "      <td>NANTERRE</td>\n",
       "      <td>NaN</td>\n",
       "      <td>NaN</td>\n",
       "    </tr>\n",
       "    <tr>\n",
       "      <th>4</th>\n",
       "      <td>SOPREMA ENTREPRISES</td>\n",
       "      <td>2019</td>\n",
       "      <td>2020-06-18</td>\n",
       "      <td>1996</td>\n",
       "      <td>NaN</td>\n",
       "      <td>ADEME</td>\n",
       "      <td>485197552.0</td>\n",
       "      <td>SOPREMA Entreprises is a network of several do...</td>\n",
       "      <td>F. Construction</td>\n",
       "      <td>43 - Travaux de construction spécialisés</td>\n",
       "      <td>4399A</td>\n",
       "      <td>NaN</td>\n",
       "      <td>Strasbourg</td>\n",
       "      <td>NaN</td>\n",
       "      <td>NaN</td>\n",
       "    </tr>\n",
       "  </tbody>\n",
       "</table>\n",
       "</div>"
      ],
      "text/plain": [
       "                                         entity_name  date date_publication  \\\n",
       "0                                      Rector Lesage  2015       2017-01-06   \n",
       "1                                      Brandt France  2018       2019-12-20   \n",
       "2  Caisse Régionale d'Assurance Maladie d'Ile de ...  2018       2019-12-18   \n",
       "3                                 KIMBERLY CLARK SAS  2017       2019-07-08   \n",
       "4                                SOPREMA ENTREPRISES  2019       2020-06-18   \n",
       "\n",
       "   entity_employees entity_sales source        siren  \\\n",
       "0               708     185.1414  ADEME  307322214.0   \n",
       "1               954     180.0538  ADEME  801250531.0   \n",
       "2              1717          NaN  ADEME  775694730.0   \n",
       "3               486     187.6831  ADEME  352600456.0   \n",
       "4              1996          NaN  ADEME  485197552.0   \n",
       "\n",
       "                                      description_en  \\\n",
       "0  Manufacturing and marketing of concrete elemen...   \n",
       "1                Manufacture of household appliances   \n",
       "2   The Cramif: pays benefits (disability pension...   \n",
       "3   consumer products for personal hygiene and ca...   \n",
       "4  SOPREMA Entreprises is a network of several do...   \n",
       "\n",
       "                          sector_naf_level_0_details  \\\n",
       "0                        C. Industrie Manufacturière   \n",
       "1  G. Commerce; réparation d'automobiles et de mo...   \n",
       "2                         O. Administration publique   \n",
       "3                        C. Industrie Manufacturière   \n",
       "4                                    F. Construction   \n",
       "\n",
       "                          sector_naf_level_1_details sector_naf_level_2  \\\n",
       "0  23 - Fabrication d'autres produits minéraux no...              2361Z   \n",
       "1  46 - Commerce de gros, à l’exception des autom...              4643Z   \n",
       "2  84 - Administration publique et défense ; sécu...              8430A   \n",
       "3              17 - Industrie du papier et du carton              1722Z   \n",
       "4          43 - Travaux de construction spécialisés               4399A   \n",
       "\n",
       "   region             city  CO2 intensity (/emp)  emissions_total  \n",
       "0     NaN         MULHOUSE                   NaN              NaN  \n",
       "1     NaN  Rueil Malmaison                   NaN              NaN  \n",
       "2     NaN            Paris                   NaN              NaN  \n",
       "3     NaN         NANTERRE                   NaN              NaN  \n",
       "4     NaN       Strasbourg                   NaN              NaN  "
      ]
     },
     "execution_count": 27,
     "metadata": {},
     "output_type": "execute_result"
    }
   ],
   "source": [
    "df_results  = df_test.merge(df_sectors_carbon_intensity, how = 'left', left_on = 'sector_naf_level_1_details', right_index = True) #we merge the two dataframes in order to get the predictions for each company\n",
    "\n",
    "#we create a new column that takes the average carbon intensity per employee of the firm sector and multiply it with the accurate number of employees\n",
    "df_results['emissions_total'] = df_results['entity_employees']*df_results['CO2 intensity (/emp)'] \n",
    "\n",
    "#show the results\n",
    "df_results.head()"
   ]
  },
  {
   "cell_type": "code",
   "execution_count": 50,
   "metadata": {},
   "outputs": [],
   "source": [
    "#df_results.to_excel('results baseline.xlsx')"
   ]
  },
  {
   "cell_type": "markdown",
   "metadata": {},
   "source": [
    "What can you deduce from those results ?"
   ]
  },
  {
   "cell_type": "markdown",
   "metadata": {},
   "source": [
    "For a more complex model, think about what you want to predict? What metric should be optimised? Which input variables? What is the chosen scope?\n",
    "\n",
    "Reminder : you want to calculate the TOTAL emissions for a company. We gave you the amount for each enterprises included in the df_train. Maybe this feature can be decomposed if you see some correlation with other features. "
   ]
  },
  {
   "cell_type": "markdown",
   "metadata": {},
   "source": [
    "### 3.2) Machine Learning models"
   ]
  },
  {
   "cell_type": "markdown",
   "metadata": {},
   "source": [
    "Machine Learning Regression Algorithm : \n",
    "https://www.analyticsvidhya.com/blog/2021/05/5-regression-algorithms-you-should-know-introductory-guide/"
   ]
  },
  {
   "cell_type": "markdown",
   "metadata": {},
   "source": [
    "Documentation Linear Regression :\n",
    "- how to use the function with sklearn documentation : https://scikit-learn.org/stable/modules/generated/sklearn.ensemble.RandomForestRegressor.html"
   ]
  },
  {
   "cell_type": "markdown",
   "metadata": {},
   "source": [
    "Documentation Decision Tree :\n",
    "- how to use the function with sklearn documentation : https://scikit-learn.org/stable/modules/tree.html#regression"
   ]
  },
  {
   "cell_type": "markdown",
   "metadata": {},
   "source": [
    "Documentation Random Forest :\n",
    "- how to use the function with sklearn documentation : https://scikit-learn.org/stable/modules/generated/sklearn.ensemble.RandomForestRegressor.html"
   ]
  },
  {
   "cell_type": "markdown",
   "metadata": {},
   "source": [
    "Documentation Support Vector Regression :\n",
    "- how to use the function with sklearn documentation : https://scikit-learn.org/stable/modules/generated/sklearn.svm.SVR.html"
   ]
  },
  {
   "cell_type": "code",
   "execution_count": 28,
   "metadata": {},
   "outputs": [],
   "source": [
    "from sklearn.preprocessing import StandardScaler, MinMaxScaler, OneHotEncoder\n",
    "from sklearn.linear_model import LinearRegression\n",
    "from sklearn.tree import DecisionTreeRegressor\n",
    "from sklearn.ensemble import RandomForestRegressor\n",
    "from sklearn.svm import SVR"
   ]
  },
  {
   "cell_type": "code",
   "execution_count": 30,
   "metadata": {
    "scrolled": false
   },
   "outputs": [],
   "source": [
    "# In order to use a textual feature you must encode it before using it in a model\n",
    "def onehotencoder(df_train_,df_test_,column):\n",
    "    encoder = OneHotEncoder(handle_unknown='ignore')\n",
    "    #perform one-hot encoding on 'team' column \n",
    "    encoder_df_train = pd.DataFrame(encoder.fit_transform(df_train_[[column]]).toarray(),columns=encoder.categories_)\n",
    "    encoder_df_test = pd.DataFrame(encoder.fit_transform(df_test_[[column]]).toarray(),columns=encoder.categories_)\n",
    "    #merge one-hot encoded columns back with original DataFrame\n",
    "    df_train_ = df_train_.join(encoder_df_train)\n",
    "    df_test_ = df_test_.join(encoder_df_test)\n",
    "    return(df_train_.drop(columns = [column]),df_test_.drop(columns = [column]))"
   ]
  },
  {
   "cell_type": "markdown",
   "metadata": {},
   "source": [
    "Documentation Scaler :\n",
    "- how to use the fonction with sklearn documentation : https://www.geeksforgeeks.org/data-pre-processing-wit-sklearn-using-standard-and-minmax-scaler/#:~:text=Data%20Scaling%20is%20a%20data%20preprocessing%20step%20for,results.%20Various%20scalers%20are%20defined%20for%20this%20purpose."
   ]
  },
  {
   "cell_type": "code",
   "execution_count": null,
   "metadata": {},
   "outputs": [],
   "source": [
    "#data preprocessing AFTER encoding\n",
    "scaler  = '...' #pick a scaler\n",
    "scaler.fit_transform(df_test)"
   ]
  },
  {
   "cell_type": "markdown",
   "metadata": {},
   "source": [
    "You can fine tune you're model if you have the time. Reminder : the performance and the technical part only coutns for 20% of the final grade."
   ]
  }
 ],
 "metadata": {
  "kernelspec": {
   "display_name": "Python 3.9.12 ('base')",
   "language": "python",
   "name": "python3"
  },
  "language_info": {
   "codemirror_mode": {
    "name": "ipython",
    "version": 3
   },
   "file_extension": ".py",
   "mimetype": "text/x-python",
   "name": "python",
   "nbconvert_exporter": "python",
   "pygments_lexer": "ipython3",
   "version": "3.9.12"
  },
  "vscode": {
   "interpreter": {
    "hash": "38cca0c38332a56087b24af0bc80247f4fced29cb4f7f437d91dc159adec9c4e"
   }
  }
 },
 "nbformat": 4,
 "nbformat_minor": 2
}
